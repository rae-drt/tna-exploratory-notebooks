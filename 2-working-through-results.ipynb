{
  "cells": [
    {
      "cell_type": "markdown",
      "metadata": {
        "id": "p8JLCitUi6iT"
      },
      "source": [
        "# 2 - Working Through The Result(s)\n",
        "\n",
        "In [1.2](/1-intro-to-discovery-api.ipynb) we fetched record(s) through the Discovery API search endpoint and displayed the list of records returned. Now, we will look at another the response and modify the API call to receive the records we want.\n",
        "\n",
        "As always, we will start by importing the needed libraries, and run an example API call. "
      ]
    },
    {
      "cell_type": "code",
      "execution_count": null,
      "metadata": {},
      "outputs": [],
      "source": [
        "%pip install -q requests\n",
        "%pip install -q json\n",
        "import requests\n",
        "import json"
      ]
    },
    {
      "cell_type": "code",
      "execution_count": null,
      "metadata": {},
      "outputs": [],
      "source": [
        "base_discovery_url = \"https://discovery.nationalarchives.gov.uk/API\"\n",
        "\n",
        "search_endpoint = \"/search/records\"\n",
        "\n",
        "search_query_parameter = \"sps.searchQuery\"\n",
        "\n",
        "search_query = \"London\"\n",
        "\n",
        "url = base_discovery_url + search_endpoint + \"?\" + search_query_parameter + \"=\" + search_query\n",
        "\n",
        "response = requests.request(\"GET\", url)\n",
        "\n",
        "print(json.dumps(response.json(), indent=4))"
      ]
    },
    {
      "cell_type": "markdown",
      "metadata": {},
      "source": [
        "## 2.1 - Number of Records"
      ]
    },
    {
      "cell_type": "markdown",
      "metadata": {},
      "source": [
        "There is a range of fields also supplied in the response, along with the records list. Other data include: \n",
        "- The list of time periods covered by the records\n",
        "- Where the records are held (in the National Archives, or in another institution), and the count per location\n",
        "- The total number of records found. \n",
        "\n",
        "Some of these data can be used to make quick decisions about the records returned. For example, if we are looking for records from the 1800s, and all records returned are from the 1900s, we know that either: the query needs tweaking, or the records may not exist. One is a quick fix, the other is an interesting research question. \n",
        "\n",
        "We can use these details to start to build up more complete views of the data. "
      ]
    },
    {
      "cell_type": "markdown",
      "metadata": {},
      "source": [
        "The first step we will take is to display the number of results received through the API call. "
      ]
    },
    {
      "cell_type": "code",
      "execution_count": null,
      "metadata": {},
      "outputs": [],
      "source": [
        "print(len(response.json()[\"records\"]))"
      ]
    },
    {
      "cell_type": "markdown",
      "metadata": {
        "id": "CwTrsp0ckgtm"
      },
      "source": [
        "\n",
        "We can see that we've retrieved 15 results! However, if we look at the total number of results (`count`), we can see that its much higher (see the response from the example query earlier in the notebook). This is because the default result page size for the API is 15. To change the number of records we receive from the API, we add the query parameter \"&sps.resultsPageSize=30\" to our URL (if we want 30 records). The number should be between 0 and 1000."
      ]
    },
    {
      "cell_type": "code",
      "execution_count": null,
      "metadata": {
        "id": "UCtg5yY_ohSE"
      },
      "outputs": [],
      "source": [
        "result_size = \"&sps.resultsPageSize=30\""
      ]
    },
    {
      "cell_type": "markdown",
      "metadata": {
        "id": "GdZgNLyHo_qX"
      },
      "source": [
        "Now, if we display the number of records received through the API call"
      ]
    },
    {
      "cell_type": "code",
      "execution_count": null,
      "metadata": {
        "colab": {
          "base_uri": "https://localhost:8080/"
        },
        "id": "b7v_bDNyovPy",
        "outputId": "ea493328-96d2-4dbb-9dcd-6cc744d63f66"
      },
      "outputs": [],
      "source": [
        "full_search_url = base_discovery_url + search_endpoint + \"?\" + search_query_parameter + \"=\" + search_query + result_size\n",
        "\n",
        "response = requests.request(\"GET\", full_search_url)\n",
        "\n",
        "print(len(response.json()[\"records\"]))"
      ]
    },
    {
      "cell_type": "markdown",
      "metadata": {
        "id": "UjaZegrapYHb"
      },
      "source": [
        "## 2.2 - Multiple Pages of Results\n",
        "\n",
        "If we want to check how many page(s) of records there are, its just simple maths: "
      ]
    },
    {
      "cell_type": "code",
      "execution_count": null,
      "metadata": {
        "colab": {
          "base_uri": "https://localhost:8080/"
        },
        "id": "RwGZgxappdqR",
        "outputId": "450ea67c-4819-4b49-c0d9-47accecc9daa"
      },
      "outputs": [],
      "source": [
        "import math\n",
        "number_of_pages = math.ceil(int(response.json()[\"count\"])/len(response.json()[\"records\"]))\n",
        "print(number_of_pages)"
      ]
    },
    {
      "cell_type": "markdown",
      "metadata": {
        "id": "ToJGUPEiqDzp"
      },
      "source": [
        "If we want to get all the results, we will add a new query parameter `&sps.page=page_number` and iterate it over the number of pages. Lets get the second page, to test it out."
      ]
    },
    {
      "cell_type": "code",
      "execution_count": null,
      "metadata": {
        "id": "It9AJJYYrHyl"
      },
      "outputs": [],
      "source": [
        "page_number = 2\n",
        "\n",
        "result_page =  \"&sps.page=\" + str(page_number)\n",
        "\n",
        "full_search_url = base_discovery_url + search_endpoint + \"?\" + search_query_parameter + \"=\" + search_query + result_size + result_page\n",
        "\n",
        "response = requests.request(\"GET\", full_search_url)\n",
        "\n",
        "## First, make sure we got a 200 response\n",
        "\n",
        "print(response.status_code)"
      ]
    },
    {
      "cell_type": "markdown",
      "metadata": {
        "id": "2ElqpaUj6rRX"
      },
      "source": [
        "Now, we lets print the results and have a look at what we've got."
      ]
    },
    {
      "cell_type": "code",
      "execution_count": null,
      "metadata": {
        "colab": {
          "base_uri": "https://localhost:8080/"
        },
        "id": "Do78ss5C6izm",
        "outputId": "85c0cde8-50b6-4a32-92fa-b813bc26c731"
      },
      "outputs": [],
      "source": [
        "print(json.dumps(response.json(), indent=4))"
      ]
    },
    {
      "cell_type": "markdown",
      "metadata": {
        "id": "pA_Kq6hO7A7v"
      },
      "source": [
        "To get all pages of results, we will starty by defining a new list in which we will store all the records"
      ]
    },
    {
      "cell_type": "code",
      "execution_count": null,
      "metadata": {
        "id": "MihFOy5AsBty"
      },
      "outputs": [],
      "source": [
        "result_array = []"
      ]
    },
    {
      "cell_type": "markdown",
      "metadata": {
        "id": "U7omziu07Jau"
      },
      "source": [
        "And then fetch results for all the pages and store them in the list. Note that for this notebook, we will only fetch the first 5 pages of results, to keep the notebook running time short."
      ]
    },
    {
      "cell_type": "code",
      "execution_count": null,
      "metadata": {
        "colab": {
          "base_uri": "https://localhost:8080/"
        },
        "id": "HcZGmCF_sFpv",
        "outputId": "e59fe632-187c-4ad1-e2c6-f43a0151b8f0"
      },
      "outputs": [],
      "source": [
        "#for i in range(number_of_pages):  # If you want to get all the pages, uncomment this line and comment out the next\n",
        "for i in range(1, 6):\n",
        "  result_page =  \"&sps.page=\" + str(i)\n",
        "  full_search_url = base_discovery_url + search_endpoint + \"?\" + search_query_parameter + \"=\" + search_query + result_size + result_page\n",
        "  response = requests.request(\"GET\", full_search_url)\n",
        "  result_array += result_array + response.json()[\"records\"]\n",
        "\n",
        "print(len(result_array))\n"
      ]
    },
    {
      "cell_type": "markdown",
      "metadata": {
        "id": "jc3CX6bqv23B"
      },
      "source": [
        "## 2.3 - Record Details, and the details API endpoint\n",
        "\n",
        "Now that we have all the record(s) for our query, we will interogate one such record to check what extra information it holds. To do this, we will take the id from our result and use a new API endpoint `/records/v1/details/{id}` to get the details of the record."
      ]
    },
    {
      "cell_type": "code",
      "execution_count": null,
      "metadata": {
        "colab": {
          "base_uri": "https://localhost:8080/"
        },
        "id": "UzL3_ePCxQBq",
        "outputId": "510e0612-33a1-4d1d-f70c-8b64bc3a1e15"
      },
      "outputs": [],
      "source": [
        "record_id = result_array[1][\"id\"]\n",
        "print(record_id)"
      ]
    },
    {
      "cell_type": "code",
      "execution_count": null,
      "metadata": {
        "id": "yU7S1yq7w9Dw"
      },
      "outputs": [],
      "source": [
        "details_endpoint = \"/records/v1/details/\""
      ]
    },
    {
      "cell_type": "markdown",
      "metadata": {
        "id": "XiMdR8G17knv"
      },
      "source": [
        "Now, we will fetch the details for that particular record ID"
      ]
    },
    {
      "cell_type": "code",
      "execution_count": null,
      "metadata": {
        "colab": {
          "base_uri": "https://localhost:8080/"
        },
        "id": "m9tFEf1RxIkm",
        "outputId": "cfa574d9-e8e6-4793-dac7-394c71edc219"
      },
      "outputs": [],
      "source": [
        "full_search_url = base_discovery_url + details_endpoint + record_id\n",
        "\n",
        "response = requests.request(\"GET\", full_search_url)\n",
        "\n",
        "print(json.dumps(response.json(), indent=4))"
      ]
    },
    {
      "cell_type": "markdown",
      "metadata": {},
      "source": [
        "That's a lot of possible data! \n",
        "\n",
        "There are some particularly useful fields here - the citable reference, the description, whether it has been digitised, and the covering dates. These fields will always have data. There are also a vast number of other fields as well which will have data depending on the record and its contents. These data, combined with the data in the search endpoint are more than enough to build up a single page in the Discovery UI. "
      ]
    },
    {
      "cell_type": "markdown",
      "metadata": {
        "id": "fnE-du6_zfE-"
      },
      "source": [
        "## 2.4 - Getting the deails we want\n",
        "\n",
        "With data aviabale from both the search and details endpoints, we could easily gather a very large dataset, and it become unwealdy. it is often better to thing about what data you will actually use first; so, we will create a new list of all the records, but with selected information like title, description, record open date, and parent ID (all information from the details endpoint)."
      ]
    },
    {
      "cell_type": "code",
      "execution_count": null,
      "metadata": {
        "id": "PGk2ePmX0AaS"
      },
      "outputs": [],
      "source": [
        "new_result_array = {}"
      ]
    },
    {
      "cell_type": "markdown",
      "metadata": {},
      "source": [
        "Then we make request to the details endpoint for each record ID, and store the results in the new list. Note that we are only fetching the first 10 records, to keep the notebook running time short and avoiding hitting the API rate limit."
      ]
    },
    {
      "cell_type": "code",
      "execution_count": null,
      "metadata": {
        "colab": {
          "base_uri": "https://localhost:8080/",
          "height": 391
        },
        "id": "qviJZLcu0JUN",
        "outputId": "a7a1366f-8f88-4dc2-a671-f7aba315b919"
      },
      "outputs": [],
      "source": [
        "for i in result_array[:10]:\n",
        "  record_id = i[\"id\"]\n",
        "  full_search_url = base_discovery_url + record_endpoint + record_id\n",
        "  response = requests.request(\"GET\", full_search_url)\n",
        "  new_result_array[response.json()[\"id\"]] = {\n",
        "    \"title\": response.json()[\"title\"], \n",
        "    \"description\": response.json()[\"scopeContent\"][\"description\"], \n",
        "    \"openingDate\": response.json()[\"recordOpeningDate\"], \n",
        "    \"parentID\": response.json()[\"parentId\"]\n",
        "  }"
      ]
    },
    {
      "cell_type": "markdown",
      "metadata": {
        "id": "ZZ_c0QiG5SPh"
      },
      "source": [
        "Now we display the record in the new list corresponding to the id of the 1st record in the old list and then the description of it."
      ]
    },
    {
      "cell_type": "code",
      "execution_count": null,
      "metadata": {
        "colab": {
          "base_uri": "https://localhost:8080/"
        },
        "id": "6A_svvui4pwy",
        "outputId": "433fcb4a-fec2-4a5e-efe7-f637718f43a9"
      },
      "outputs": [],
      "source": [
        "print(new_result_array[result_array[1][\"id\"]])\n",
        "print(new_result_array[result_array[1][\"id\"]][\"description\"])"
      ]
    }
  ],
  "metadata": {
    "colab": {
      "provenance": []
    },
    "kernelspec": {
      "display_name": "Python 3",
      "name": "python3"
    },
    "language_info": {
      "codemirror_mode": {
        "name": "ipython",
        "version": 3
      },
      "file_extension": ".py",
      "mimetype": "text/x-python",
      "name": "python",
      "nbconvert_exporter": "python",
      "pygments_lexer": "ipython3",
      "version": "3.10.12"
    }
  },
  "nbformat": 4,
  "nbformat_minor": 0
}
