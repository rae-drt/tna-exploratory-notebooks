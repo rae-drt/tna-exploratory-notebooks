{
 "cells": [
  {
   "cell_type": "markdown",
   "metadata": {},
   "source": [
    "# Further functions\n",
    "\n",
    "Folium has a wide variety of additional functions that can be added to the map. These are avaiable as both built-in functions and as plugins. In this notebook, we will explore a few options to highlight their potential, and where to find the documentation for further exploration."
   ]
  },
  {
   "cell_type": "code",
   "execution_count": null,
   "metadata": {},
   "outputs": [],
   "source": [
    "%pip install -q folium\n",
    "import folium\n",
    "import folium.plugins"
   ]
  },
  {
   "cell_type": "markdown",
   "metadata": {},
   "source": [
    "## Dual maps \n",
    "\n",
    "If you had information from both sides of a dispute, the dual map functionality would allow you to map the information known by different sides on the same map, showing different contexts to the same information. "
   ]
  },
  {
   "cell_type": "code",
   "execution_count": null,
   "metadata": {},
   "outputs": [],
   "source": [
    "portsmouth_map = folium.plugins.DualMap(location=[50.8197675, -1.0879769], zoom_start=13)\n",
    "\n",
    "features_both = folium.FeatureGroup(name='Both').add_to(portsmouth_map)\n",
    "features_left = folium.FeatureGroup(name='Left').add_to(portsmouth_map.m1)\n",
    "features_right = folium.FeatureGroup(name='Right').add_to(portsmouth_map.m2)\n",
    "\n",
    "folium.Marker([50.8197675, -1.0879769], popup='Portsmouth').add_to(features_both)\n",
    "\n",
    "folium.Marker([50.7845, -1.0833], popup='Southsea Common').add_to(features_left)\n",
    "\n",
    "folium.Marker([50.7983, -1.0915], popup='Mountbatten Centre').add_to(features_right)\n",
    "\n",
    "portsmouth_map"
   ]
  },
  {
   "cell_type": "markdown",
   "metadata": {},
   "source": [
    "## Heatmaps\n",
    "\n",
    "Heatmaps have a number of different uses, such as showing the spread of an idea, density of a population, spread of a disease, or more. \n",
    "\n",
    "Heatmaps react to the zoom level of the map - on the map of Bodmin shown below, you can see that at the default zoom, there only appears to be a single \"blob\". If you zoom in, you will see the different points and their relative intensity.\n",
    "\n",
    "A heatmap is created with a list of waypoints, each with an intensity. This intensity is used to calculate the colour of the heatmap at that point.\n",
    "\n",
    "If you have information to create a heatmap and time, [`Heat maps with time`](https://python-visualization.github.io/folium/latest/user_guide/plugins/heatmap_with_time.html) allows you to animate the heatmap over time."
   ]
  },
  {
   "cell_type": "code",
   "execution_count": null,
   "metadata": {},
   "outputs": [],
   "source": [
    "bodmin_map = folium.Map(location=[50.5733, -4.4627], zoom_start=16)\n",
    "\n",
    "# create a list of lat, lon, intensity\n",
    "\n",
    "heat_data = [[50.5733, -4.4627, 1],\n",
    "             [50.5734, -4.4628, 2],\n",
    "             [50.5735, -4.4629, 3],\n",
    "             [50.5736, -4.4630, 4],\n",
    "             [50.5744, -4.4631, 1],\n",
    "]\n",
    "\n",
    "folium.plugins.HeatMap(heat_data).add_to(bodmin_map)\n",
    "\n",
    "bodmin_map\n"
   ]
  },
  {
   "cell_type": "markdown",
   "metadata": {},
   "source": [
    "## Mini maps\n",
    "\n",
    "A minimap provides a small map in the corner of the main map, allowing the user to see the current viewport of the main map in context of a larger area. There are a range of different uses for this, including: showing a lot of detail over a small area, such as peoples locations within a village at a specific time, whilst also showing context for the villages location within the country, or showing the disposition of forces in a specific battle while showing the battles location within the overall campaign. \n",
    "\n",
    "There are a few options avaiable when drawing a mini-map, allowing you to choose the location, tiles, zoom offset, and size. "
   ]
  },
  {
   "cell_type": "code",
   "execution_count": null,
   "metadata": {},
   "outputs": [],
   "source": [
    "oxford_map = folium.Map(location=[51.7520, -1.2577], zoom_start=12)\n",
    "folium.plugins.MiniMap(tile_layer=\"Cartodb Positron\", position=\"topleft\", width=400, zoom_level_offset=-7).add_to(oxford_map)\n",
    "oxford_map"
   ]
  },
  {
   "cell_type": "markdown",
   "metadata": {},
   "source": [
    "## And even more\n",
    "\n",
    "There are a wide range of other options avaiable, and the documentation is clear. The list is available [here](https://python-visualization.github.io/folium/plugins.html). Many of these functions will be useful in a wide range of humanities contexts, and further exploration is recommended."
   ]
  }
 ],
 "metadata": {
  "kernelspec": {
   "display_name": "Python 3",
   "language": "python",
   "name": "python3"
  },
  "language_info": {
   "codemirror_mode": {
    "name": "ipython",
    "version": 3
   },
   "file_extension": ".py",
   "mimetype": "text/x-python",
   "name": "python",
   "nbconvert_exporter": "python",
   "pygments_lexer": "ipython3",
   "version": "3.10.12"
  }
 },
 "nbformat": 4,
 "nbformat_minor": 2
}
