{
 "cells": [
  {
   "cell_type": "markdown",
   "metadata": {},
   "source": [
    "# Ship chase\n",
    "\n",
    "This example imagines the discovery of a ships log found in Discovery, detailing a stern chase between two ships, with a map from the period covering the chase area. These are all combined using Folium to create an interactive map, allowing a rich visualisation of the situation. "
   ]
  },
  {
   "cell_type": "markdown",
   "metadata": {},
   "source": [
    "## The data\n",
    "\n",
    "#### Discovery examples\n",
    "\n",
    "There are plenty of example of ships logs and maps in Discovery, two examples of which are below. If you have access to data from Discovery, feel free to use it in place of the examples here. \n",
    "- [Ships logs avaiable on Discovery include the Master's log of HMS Endeavour](https://discovery.nationalarchives.gov.uk/details/r/C2976711)\n",
    "- [Maps avaiable on Discovery include the map of the world by Jodocus Hondius](https://discovery.nationalarchives.gov.uk/details/r/C1343)"
   ]
  },
  {
   "cell_type": "markdown",
   "metadata": {},
   "source": [
    "#### Example data used here\n",
    "\n",
    "Here we are going to use fully artificial data for the ships logs, to ensure a clear and simple example. The overlay map we are using is of the English Channel from 1814. This map is available from the [David Rumsey Map Collection, David Rumsey Map Center, Stanford Libraries](https://www.davidrumsey.com/home), available at [https://www.davidrumsey.com/luna/servlet/detail/RUMSEY~8~1~28335~1120764:British-Channel-;JSESSIONID=75ac7b7b-a3a6-440a-b77a-6f0c1cdfb572?title=Search+Results%3A+List_No+equal+to+%271007.015%27&thumbnailViewUrlKey=link.view.search.url&fullTextSearchChecked=&annotSearchChecked=&dateRangeSearchChecked=&showShareIIIFLink=true&helpUrl=https%3A%2F%2Fdocumentation.lunaimaging.com%2Fdisplay%2FV75D%2FLUNA%2BViewer%23LUNAViewer-LUNAViewer&showTip=false&showTipAdvancedSearch=false&advancedSearchUrl=https%3A%2F%2Fdocumentation.lunaimaging.com%2Fdisplay%2FV75D%2FSearching%23Searching-Searching](https://www.davidrumsey.com/luna/servlet/detail/RUMSEY~8~1~28335~1120764:British-Channel-;JSESSIONID=75ac7b7b-a3a6-440a-b77a-6f0c1cdfb572?title=Search+Results%3A+List_No+equal+to+%271007.015%27&thumbnailViewUrlKey=link.view.search.url&fullTextSearchChecked=&annotSearchChecked=&dateRangeSearchChecked=&showShareIIIFLink=true&helpUrl=https%3A%2F%2Fdocumentation.lunaimaging.com%2Fdisplay%2FV75D%2FLUNA%2BViewer%23LUNAViewer-LUNAViewer&showTip=false&showTipAdvancedSearch=false&advancedSearchUrl=https%3A%2F%2Fdocumentation.lunaimaging.com%2Fdisplay%2FV75D%2FSearching%23Searching-Searching), used under a CC license."
   ]
  },
  {
   "cell_type": "markdown",
   "metadata": {},
   "source": [
    "## Imports and helper functions\n",
    "\n",
    "The first step, as always is to import the required set of libraries. As this notebook focusses on being an example of what can be built with Folium, some of the data storage and manipulation is done in a [helper function file](./helper_functions_alt.py). Feel free to have a look at the file if you wish to see the raw data or details of the functions. "
   ]
  },
  {
   "cell_type": "code",
   "execution_count": null,
   "metadata": {},
   "outputs": [],
   "source": [
    "%pip install -q folium\n",
    "%pip install -q zipfile\n",
    "import folium\n",
    "import folium.plugins as plugins\n",
    "import zipfile\n",
    "import urllib.request\n",
    "\n",
    "import helper_functions as hf"
   ]
  },
  {
   "cell_type": "markdown",
   "metadata": {},
   "source": [
    "## The base map\n",
    "\n",
    "To start of, the base map is specified, drawing a larger map than the overlay to ensure there is enough space to show everything."
   ]
  },
  {
   "cell_type": "code",
   "execution_count": null,
   "metadata": {},
   "outputs": [],
   "source": [
    "chase_map = folium.Map(location=[50.5, -1.5], zoom_start=6)\n",
    "\n",
    "chase_map"
   ]
  },
  {
   "cell_type": "markdown",
   "metadata": {},
   "source": [
    "## Highlighting the coastline\n",
    "\n",
    "With the different overlays, and the potential different projections and accuracy levels of different maps, it is important to ensure that an accurate coastline is highlighted for context. This data is avaiable from [The World Bank](https://datacatalog.worldbank.org/search/dataset/0038272/World%20Bank%20Official%20Boundaries?version=1) in GeoJSON format. "
   ]
  },
  {
   "cell_type": "code",
   "execution_count": null,
   "metadata": {},
   "outputs": [],
   "source": [
    "data = urllib.request.urlretrieve(\"https://datacatalogfiles.worldbank.org/ddh-published/0038272/DR0046666/wb_boundaries_geojson_highres.zip?versionId=2023-01-19T09:29:18.1778038Z\", \"wb_boundaries_geojson_highres.zip\")\n",
    "data_unzip = zipfile.ZipFile(\"wb_boundaries_geojson_highres.zip\", \"r\")\n",
    "data_unzip.extractall()\n",
    "\n",
    "coastline_data = \"WB_Boundaries_GeoJSON_highres/WB_Coastlines.geojson\"\n",
    "\n",
    "folium.GeoJson(coastline_data).add_to(chase_map)\n",
    "\n",
    "chase_map"
   ]
  },
  {
   "cell_type": "markdown",
   "metadata": {},
   "source": [
    "## Downloading and adding the overlay\n",
    "\n",
    "Overlaying the map needs a few more values to be specified than the coastline. At this stage, a control to toggle layers on and off is also included. "
   ]
  },
  {
   "cell_type": "code",
   "execution_count": null,
   "metadata": {},
   "outputs": [],
   "source": [
    "folium.raster_layers.ImageOverlay(\n",
    "    name=\"English Channel Map\",\n",
    "    image=\"./historic_channel_map.jpg\",\n",
    "    bounds=[[48, -8.0], [52.3, 2.8]],\n",
    "    opacity=0.5,\n",
    "    interactive=False,\n",
    "    zindex=1,\n",
    ").add_to(chase_map)\n",
    "\n",
    "folium.LayerControl().add_to(chase_map)\n",
    "\n",
    "chase_map"
   ]
  },
  {
   "cell_type": "markdown",
   "metadata": {},
   "source": [
    "## Adding the ships paths\n",
    "\n",
    "With the maps in place, the next step is to add the ships paths. The data is stored as a series of waypoints with timestamps, so this is done as a two-stage process. First, the lists of waypoints are looped though and added to the map as a series of markers. Another loop uses the timestamps and the GeoJson plugin to include lines between each waypoint that come into existence in order and at the correct relative time on an animation, giving a visual indication of each ships relative position during the chase. \n",
    "\n",
    "Unfortunately (at time of writing) there is a bug within the timestamped GeoJson plugin, meaning it only accepts dates after 1970. This was an [issue with the base library](https://github.com/socib/Leaflet.TimeDimension/issues/83) that the plugin is built on; the base library has been updated, this just has not (yet) propagated to Folium. Given the visual impact this plugin can provide, it may be worth working around this bug until it is fixed."
   ]
  },
  {
   "cell_type": "code",
   "execution_count": null,
   "metadata": {},
   "outputs": [],
   "source": [
    "for waypoint in hf.leader_waypoints:\n",
    "    folium.Marker(\n",
    "        location=[waypoint[\"latitude\"], waypoint[\"longitude\"]],\n",
    "        icon=folium.Icon(color=\"green\", icon=\"info-sign\"),\n",
    "    ).add_to(chase_map)\n",
    "\n",
    "for waypoint in hf.chaser_waypoints:\n",
    "    folium.Marker(\n",
    "        location=[waypoint[\"latitude\"], waypoint[\"longitude\"]],\n",
    "        icon=folium.Icon(color=\"red\", icon=\"info-sign\"),\n",
    "    ).add_to(chase_map)\n",
    "\n",
    "plugins.TimestampedGeoJson(\n",
    "    {\n",
    "        \"type\": \"Feature\",\n",
    "        \"geometry\": {\n",
    "            \"type\": \"LineString\",\n",
    "            \"coordinates\": [\n",
    "                [waypoint[\"longitude\"], waypoint[\"latitude\"]]\n",
    "                for waypoint in hf.leader_waypoints\n",
    "            ]\n",
    "        },\n",
    "        \"properties\": {\n",
    "            \"times\": [waypoint[\"timestamp\"] for waypoint in hf.leader_waypoints]\n",
    "        },\n",
    "    },\n",
    "    period=\"PT1H\",\n",
    "    add_last_point=True,\n",
    ").add_to(chase_map)\n",
    "\n",
    "plugins.TimestampedGeoJson(\n",
    "    {\n",
    "        \"type\": \"Feature\",\n",
    "        \"geometry\": {\n",
    "            \"type\": \"LineString\",\n",
    "            \"coordinates\": [\n",
    "                [waypoint[\"longitude\"], waypoint[\"latitude\"]]\n",
    "                for waypoint in hf.chaser_waypoints\n",
    "            ]\n",
    "        },\n",
    "        \"properties\": {\n",
    "            \"times\": [waypoint[\"timestamp\"] for waypoint in hf.chaser_waypoints]\n",
    "        },\n",
    "    },\n",
    "    period=\"PT1H\",\n",
    "    add_last_point=True,\n",
    ").add_to(chase_map)\n",
    "\n",
    "chase_map"
   ]
  },
  {
   "cell_type": "markdown",
   "metadata": {},
   "source": [
    "## How far could the ships see?\n",
    "\n",
    "Calculating the distance to the horizon from a given height is a simple calculation, needing the height of the observer in meters to give a distance in nautical miles: \n",
    "\n",
    "$2.04*\\sqrt{h}$, where $h$ is the height of the observer. \n",
    "\n",
    "In the helper functions file, this calculation is used to give a viewing range in each of the cardinal directions, which is the plotted onto the map. Note that these visibility diamonds appear as if there is greater visibility in the north/south direction as a side effect of the web-Mercator projection in use. \n",
    "\n",
    "For this example, were using heights of 40m and 48m, representing [HMS Surprise](https://en.wikipedia.org/wiki/HMS_Surprise_(replica_ship)) being chased by an imagined larger French Privateer. "
   ]
  },
  {
   "cell_type": "code",
   "execution_count": null,
   "metadata": {},
   "outputs": [],
   "source": [
    "for waypoint in hf.leader_waypoints:\n",
    "    additional_waypoints = hf.visibility_around_a_waypoint(waypoint[\"latitude\"], waypoint[\"longitude\"], hf.height_of_surprise_in_m)\n",
    "    visibility_coords = []\n",
    "    for additional_waypoint in additional_waypoints:\n",
    "        visibility_coords.append([additional_waypoint[0], additional_waypoint[1]])\n",
    "    folium.Polygon(\n",
    "        locations=visibility_coords,\n",
    "        color=\"green\",\n",
    "        fill=True,\n",
    "        fill_color=\"green\",\n",
    "        fill_opacity=0.5,\n",
    "    ).add_to(chase_map)\n",
    "\n",
    "for waypoint in hf.chaser_waypoints:\n",
    "    additional_waypoints = hf.visibility_around_a_waypoint(waypoint[\"latitude\"], waypoint[\"longitude\"], hf.height_of_acheron_in_m)\n",
    "    visibility_coords = []\n",
    "    for additional_waypoint in additional_waypoints:\n",
    "        visibility_coords.append([additional_waypoint[0], additional_waypoint[1]])\n",
    "    folium.Polygon(\n",
    "        locations=visibility_coords,\n",
    "        color=\"red\",\n",
    "        fill=True,\n",
    "        fill_color=\"red\",\n",
    "        fill_opacity=0.5,\n",
    "    ).add_to(chase_map)\n",
    "\n",
    "chase_map"
   ]
  },
  {
   "cell_type": "markdown",
   "metadata": {},
   "source": [
    "# Conclusion\n",
    "\n",
    "With a couple of data sources, and some work with Folium, we have created a visualisation showing the relative positions of two ships during a chase, with context provided by an era-relevant map, and information on how far the ships could see. If such data are available, we could build this map up further, with information on the weather, whether the ships had any visibility of each other (visibility to the horizon is not the same as visibility of another ship), locations of any actions, information about the crew, and so on. Lets take a final look at the map, and save it as an HTML file for sharing."
   ]
  },
  {
   "cell_type": "code",
   "execution_count": null,
   "metadata": {},
   "outputs": [],
   "source": [
    "chase_map.save(\"chase_map.html\")\n",
    "\n",
    "chase_map"
   ]
  }
 ],
 "metadata": {
  "kernelspec": {
   "display_name": "Python 3",
   "language": "python",
   "name": "python3"
  },
  "language_info": {
   "codemirror_mode": {
    "name": "ipython",
    "version": 3
   },
   "file_extension": ".py",
   "mimetype": "text/x-python",
   "name": "python",
   "nbconvert_exporter": "python",
   "pygments_lexer": "ipython3",
   "version": "3.10.12"
  }
 },
 "nbformat": 4,
 "nbformat_minor": 2
}
