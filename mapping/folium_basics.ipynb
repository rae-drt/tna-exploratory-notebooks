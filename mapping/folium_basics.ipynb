{
 "cells": [
  {
   "cell_type": "markdown",
   "metadata": {},
   "source": [
    "# Folium basics\n",
    "\n",
    "This notebook is an introduction to the basics of using the Folium library to create maps in Python. "
   ]
  },
  {
   "cell_type": "code",
   "execution_count": null,
   "metadata": {},
   "outputs": [],
   "source": [
    "%pip install -q folium\n",
    "import folium"
   ]
  },
  {
   "cell_type": "markdown",
   "metadata": {},
   "source": [
    "## Basic map\n",
    "\n",
    "The minimum information required to draw a map is the latitude and longitude of the map center. Folium will then supply default values for zoom and tiles (the background map). "
   ]
  },
  {
   "cell_type": "code",
   "execution_count": null,
   "metadata": {},
   "outputs": [],
   "source": [
    "basic_map = folium.Map(location=[51.5, -0.1])\n",
    "\n",
    "basic_map"
   ]
  },
  {
   "cell_type": "markdown",
   "metadata": {},
   "source": [
    "Adding a zoom level gives you control over how much area is covered in a map. A zoom level of 1 will show the whole world, while a zoom level of 20 will show a few meters. Closer in zoom levels (higher numbers) will show more details. "
   ]
  },
  {
   "cell_type": "code",
   "execution_count": null,
   "metadata": {},
   "outputs": [],
   "source": [
    "zoomed_map = folium.Map(location=[51.5, -0.1], zoom_start=15)\n",
    "\n",
    "zoomed_map"
   ]
  },
  {
   "cell_type": "markdown",
   "metadata": {},
   "source": [
    "## Alternative tiles\n",
    "\n",
    "There are a few different background maps you can use. The default is OpenStreetMap, but CartoDB is built in as an alternative. If you have access to other map servers, they may also be useable - for example, [Stamen Watercolor](https://stadiamaps.com/stamen/) is a popular choice, and may be appropriate for a historical map."
   ]
  },
  {
   "cell_type": "code",
   "execution_count": null,
   "metadata": {},
   "outputs": [],
   "source": [
    "positron_london = folium.Map(location=[51.5, -0.1], tiles='Cartodb Positron', zoom_start=10)\n",
    "\n",
    "positron_london"
   ]
  }
 ],
 "metadata": {
  "kernelspec": {
   "display_name": "Python 3",
   "language": "python",
   "name": "python3"
  },
  "language_info": {
   "codemirror_mode": {
    "name": "ipython",
    "version": 3
   },
   "file_extension": ".py",
   "mimetype": "text/x-python",
   "name": "python",
   "nbconvert_exporter": "python",
   "pygments_lexer": "ipython3",
   "version": "3.10.12"
  }
 },
 "nbformat": 4,
 "nbformat_minor": 2
}
