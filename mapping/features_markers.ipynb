{
 "cells": [
  {
   "cell_type": "markdown",
   "metadata": {},
   "source": [
    "#  Markers and popups\n",
    "\n",
    "Folium lets you also add markers to the map. There are a huge variety of different use cases for this, and to accommodate them, you can add different markers with different functionality. "
   ]
  },
  {
   "cell_type": "code",
   "execution_count": null,
   "metadata": {},
   "outputs": [],
   "source": [
    "%pip install -q folium\n",
    "import folium"
   ]
  },
  {
   "cell_type": "markdown",
   "metadata": {},
   "source": [
    "## Basic marker and popup\n",
    "\n",
    "The basic marker is a simple pin, requiring a location and little else. Adding a popup is straightforward, providing the user more context when they click on the marker. "
   ]
  },
  {
   "cell_type": "code",
   "execution_count": null,
   "metadata": {},
   "outputs": [],
   "source": [
    "cardiff_map = folium.Map(location=[51.4816, -3.1791], zoom_start=12)\n",
    "\n",
    "folium.Marker([51.4789, -3.1829], popup='Millenium Stadium').add_to(cardiff_map)\n",
    "\n",
    "cardiff_map"
   ]
  },
  {
   "cell_type": "markdown",
   "metadata": {},
   "source": [
    "You can change the colour or icon of the marker. "
   ]
  },
  {
   "cell_type": "code",
   "execution_count": null,
   "metadata": {},
   "outputs": [],
   "source": [
    "folium.Marker([51.4630, -3.1645], popup='Torchwood location', icon=folium.Icon(color='red')).add_to(cardiff_map)\n",
    "\n",
    "url = \"https://upload.wikimedia.org/wikipedia/commons/3/31/National_Rail_logo.svg\"\n",
    "\n",
    "national_rail_icon = folium.CustomIcon(\n",
    "    url,\n",
    "    icon_size=(20, 20),\n",
    "    icon_anchor=(0, 0),\n",
    ")\n",
    "\n",
    "folium.Marker([51.4769, -3.1763], popup='Cardiff Central', icon=national_rail_icon).add_to(cardiff_map)\n",
    "\n",
    "cardiff_map"
   ]
  },
  {
   "cell_type": "markdown",
   "metadata": {},
   "source": [
    "## Popups on unusual markers\n",
    "\n",
    "Folium lets you draw shapes on the map, if you need to highlight a larger area than a pin allows. These shapes can also have popups. It is recommended that you use GeoJSON for shapes, to ensure that the popup will be visible if the user clicks anywhere within the shape, as when using default shapes, the popup only appears if the user clicks on the outline.  "
   ]
  },
  {
   "cell_type": "code",
   "execution_count": null,
   "metadata": {},
   "outputs": [],
   "source": [
    "barry_square = folium.GeoJson(\n",
    "    data={\"type\": \"Polygon\", \"coordinates\": [[[-3.2700, 51.4000], [-3.2700, 51.4100], [-3.2600, 51.4100], [-3.2600, 51.4000], [-3.2700, 51.4000]]]},\n",
    "    style_function=lambda x: {'color': 'red', 'fillColor': 'red'}\n",
    ").add_to(cardiff_map)\n",
    "\n",
    "barry_square.add_child(folium.Popup(\"Barry Square\"))\n",
    "\n",
    "cardiff_map"
   ]
  },
  {
   "cell_type": "markdown",
   "metadata": {},
   "source": [
    "## Fancy popups with HTML\n",
    "\n",
    "Marker popups allow you to use HTML to provide a richer experience. This can be used simply, for example to give a title and some body text. Try clicking on the marker below. With HTML, you can also add css or images. "
   ]
  },
  {
   "cell_type": "code",
   "execution_count": null,
   "metadata": {},
   "outputs": [],
   "source": [
    "html = \"\"\"\n",
    "    <h1 style=\"color:blue;text-align:center;\"> Cardiff Castle </h1>\n",
    "    <p> Cardiff Castle is a large castle in the middle of Cardiff. It shows a fort, motte and bailey, and a Norman keep. It is a Grade I listed building. </p>\n",
    "\"\"\"\n",
    "\n",
    "folium.Marker([51.4816, -3.1791], popup=html).add_to(cardiff_map)\n",
    "\n",
    "cardiff_map"
   ]
  },
  {
   "cell_type": "markdown",
   "metadata": {},
   "source": [
    "## Things between markers\n",
    "\n",
    "The markers can be used to provide additional context outside of the markers. For example, they can be used as points on a line to provide context. "
   ]
  },
  {
   "cell_type": "code",
   "execution_count": null,
   "metadata": {},
   "outputs": [],
   "source": [
    "coordinates = [\n",
    "    [51.4816, -3.1791],\n",
    "    [51.4789, -3.1829],\n",
    "    [51.4769, -3.1763],\n",
    "    [51.4630, -3.1645],\n",
    "    [51.4000, -3.2700],\n",
    "]\n",
    "\n",
    "folium.PolyLine(coordinates, color=\"red\", weight=2.5, opacity=1).add_to(cardiff_map)\n",
    "\n",
    "cardiff_map"
   ]
  },
  {
   "cell_type": "markdown",
   "metadata": {},
   "source": [
    "## Conclusion\n",
    "\n",
    "Markers on maps are invaluable, and there are many options available for use in Folium. Careful use of them can provide a rich and informative user experience."
   ]
  }
 ],
 "metadata": {
  "kernelspec": {
   "display_name": "Python 3",
   "language": "python",
   "name": "python3"
  },
  "language_info": {
   "codemirror_mode": {
    "name": "ipython",
    "version": 3
   },
   "file_extension": ".py",
   "mimetype": "text/x-python",
   "name": "python",
   "nbconvert_exporter": "python",
   "pygments_lexer": "ipython3",
   "version": "3.10.12"
  }
 },
 "nbformat": 4,
 "nbformat_minor": 2
}
