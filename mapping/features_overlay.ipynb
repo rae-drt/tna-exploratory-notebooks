{
 "cells": [
  {
   "cell_type": "markdown",
   "metadata": {},
   "source": [
    "# Overlaying images on a base map"
   ]
  },
  {
   "cell_type": "markdown",
   "metadata": {},
   "source": [
    "Maps of areas have been produced for many years, and for a wide range of purposes. The National Archives holds a wide number of these maps; when working with these, it may be useful to overlay the historical maps on a modern base map to provide context. This notebook shows how Folium can be used to overlay several different maps on a base map. \n",
    "\n",
    "In this example we are going to progressively overlay a series of maps over the base map of Turkey. This notebook uses two sources from Discovery and one from Wikimedia. If you do not have access to Discovery, you can skip the relevant cells and use only the Wikimedia map. "
   ]
  },
  {
   "cell_type": "markdown",
   "metadata": {},
   "source": [
    "## Discovery data"
   ]
  },
  {
   "cell_type": "markdown",
   "metadata": {},
   "source": [
    "The code in this notebook assumes: \n",
    "- \"image a.png\" is an extract from the map from the last page of [CAB 42/2/8  The future settlement of Eastern Turkey in Asia and Arabia.](https://discovery.nationalarchives.gov.uk/details/r/C6268090), comprising of the top 3 rows, stopping at 34°N.\n",
    "- \"image b.png\" is an extract from the map from page 4 of [CAB 24/72/7 Record Type: Memorandum Former Reference: GT 6506A Title: Maps...](https://discovery.nationalarchives.gov.uk/details/r/D7732547), comprising the top 2 rows, stopping at 36°N. "
   ]
  },
  {
   "cell_type": "markdown",
   "metadata": {},
   "source": [
    "#### Importing the required libraries"
   ]
  },
  {
   "cell_type": "code",
   "execution_count": null,
   "metadata": {},
   "outputs": [],
   "source": [
    "%pip install -q folium\n",
    "%pip install -q zipfile\n",
    "import folium\n",
    "import zipfile\n",
    "import urllib.request"
   ]
  },
  {
   "cell_type": "markdown",
   "metadata": {},
   "source": [
    "## Base map\n",
    "\n",
    "The first step is to draw the base map, with a large amount of room around it to allow for context when overlaying the maps. "
   ]
  },
  {
   "cell_type": "code",
   "execution_count": null,
   "metadata": {},
   "outputs": [],
   "source": [
    "turkey_map = folium.Map(location=[39.9334, 32.8597], zoom_start=6)\n",
    "\n",
    "turkey_map"
   ]
  },
  {
   "cell_type": "markdown",
   "metadata": {},
   "source": [
    "## Overlaying maps\n",
    "\n",
    "The `ImageOverlay` function is used to to place images on the map. There are a few parameters that need to be set: \n",
    "- `name` provides a label for the overlayed image, used in the layer control.\n",
    "- `image` is the path to the image file - this can be local or a web address.\n",
    "- `bounds` is the area that the image should cover. This is a list of the form `[[min/south_lat, min/west_lon], [max/north_lat, max/east_lon]]`.\n",
    "- `opacity` is the transparency of the image, with 0 being fully transparent and 1 being fully opaque.\n",
    "\n",
    "Setting the correct value for `bounds` can be tricky for two reasons: \n",
    "- The overlay map may be using a different [projection](https://en.wikipedia.org/wiki/Map_projection) to the base map (typically Web Mercator, as used in OpenStreetMap and Google Maps). If a key area is lined up correctly, a difference in map projection will mean that the rest of the map will drift out of alignment. \n",
    "- Older maps may be less accurate than modern maps, and may not line up perfectly with the base over their entire extent.\n",
    "\n",
    "If overlays are proving hard to line up perfectly, the most appropriate solution is likely to be to line up at the area of key interest, and accept that the rest of the map will be out of alignment."
   ]
  },
  {
   "cell_type": "markdown",
   "metadata": {},
   "source": [
    "#### Adding the Discovery maps"
   ]
  },
  {
   "cell_type": "code",
   "execution_count": null,
   "metadata": {},
   "outputs": [],
   "source": [
    "folium.raster_layers.ImageOverlay(\n",
    "    name='Extract from \"The future settlement of Eastern Turkey in Asia and Arabia. \"',\n",
    "    image=\"image_a.png\",\n",
    "    bounds=[[34,42],[37.5,48.5]],\n",
    "    opacity=0.5,\n",
    "    interactive=False,\n",
    "    zindex=2,\n",
    ").add_to(turkey_map)\n",
    "\n",
    "folium.raster_layers.ImageOverlay(\n",
    "    name='Extract from \"Record Type: Memorandum Former Reference: GT 6506A Title: Maps\"',\n",
    "    image=\"image_b.png\",\n",
    "    bounds=[[35.5, 22],[45, 37]],\n",
    "    opacity=0.5,\n",
    "    interactive=False,\n",
    "    zindex=2,\n",
    ").add_to(turkey_map)    \n",
    "\n",
    "turkey_map"
   ]
  },
  {
   "cell_type": "markdown",
   "metadata": {},
   "source": [
    "#### Overlaying the Wikimedia map"
   ]
  },
  {
   "cell_type": "code",
   "execution_count": null,
   "metadata": {},
   "outputs": [],
   "source": [
    "folium.raster_layers.ImageOverlay(\n",
    "    name=\"Turkey internal administrative boundaries from Wikimedia\",\n",
    "    image=\"https://upload.wikimedia.org/wikipedia/commons/e/e5/Turkey_adm_location_map.svg\",\n",
    "    bounds=[[35.5, 25.4], [42.5, 45.0]],\n",
    "    opacity=0.5,\n",
    "    interactive=False,\n",
    "    cross_origin=False,\n",
    "    zindex=1,\n",
    ").add_to(turkey_map)\n",
    "\n",
    "turkey_map"
   ]
  },
  {
   "cell_type": "markdown",
   "metadata": {},
   "source": [
    "## Other overlays\n",
    "\n",
    "It is possible to overlay other information on the map, such as GeoJSON data. This can provide context, such as overlaying political boundaries over historical or topographical maps. Here, the World Boundaries GeoJSON data from The World Bank is used to provide details.  "
   ]
  },
  {
   "cell_type": "code",
   "execution_count": null,
   "metadata": {},
   "outputs": [],
   "source": [
    "data = urllib.request.urlretrieve(\"https://datacatalogfiles.worldbank.org/ddh-published/0038272/DR0046666/wb_boundaries_geojson_highres.zip?versionId=2023-01-19T09:29:18.1778038Z\", \"wb_boundaries_geojson_highres.zip\")\n",
    "data_unzip = zipfile.ZipFile(\"wb_boundaries_geojson_highres.zip\", \"r\")\n",
    "data_unzip.extractall()\n",
    "\n",
    "boundaries = \"WB_Boundaries_GeoJSON_highres/WB_Admin0_boundary_lines.geojson\"\n",
    "\n",
    "folium.GeoJson(boundaries).add_to(turkey_map)\n",
    "\n",
    "turkey_map"
   ]
  },
  {
   "cell_type": "markdown",
   "metadata": {},
   "source": [
    "## Adding layer control\n",
    "\n",
    "Having multiple layers present at the same time can result in it being hard to see the most relevant information. The `LayerControl` function provides a widget in the top right of the map, providing the option to toggle the visibility of these layers, allowing the user to show only the information relevant to them. The names used here are taken from the `name` parameters when the images were added. "
   ]
  },
  {
   "cell_type": "code",
   "execution_count": null,
   "metadata": {},
   "outputs": [],
   "source": [
    "folium.LayerControl().add_to(turkey_map)\n",
    "\n",
    "turkey_map"
   ]
  },
  {
   "cell_type": "markdown",
   "metadata": {},
   "source": [
    "## Conclusion\n",
    "\n",
    "Overlaying multiple maps and images can provide invaluable context to historical research. This can be used to show how understandings of an area have changed over time, how political boundaries have shifted, or how the quality of maps has improved. It could also be used to provide additional context to maps of a small area, for example overlaying the troop positions within a specific battle on a map of the entire war. With the possibility to add many different layers and types of data, there are fields and tools that can be used to manage the data being displayed, making the interactive map useful to the user."
   ]
  }
 ],
 "metadata": {
  "kernelspec": {
   "display_name": "Python 3",
   "language": "python",
   "name": "python3"
  },
  "language_info": {
   "codemirror_mode": {
    "name": "ipython",
    "version": 3
   },
   "file_extension": ".py",
   "mimetype": "text/x-python",
   "name": "python",
   "nbconvert_exporter": "python",
   "pygments_lexer": "ipython3",
   "version": "3.10.12"
  }
 },
 "nbformat": 4,
 "nbformat_minor": 2
}
