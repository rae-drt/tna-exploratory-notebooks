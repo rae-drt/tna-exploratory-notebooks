{
 "cells": [
  {
   "cell_type": "markdown",
   "metadata": {},
   "source": [
    "# Welcome\n",
    "- Intro to the set of notebooks and paths that can be followed\n",
    "- Aims of the notebooks\n",
    "- Aims of this notebook\n",
    "\n",
    "Hello and welcome to this set of notebooks. \n",
    "\n",
    "The general aim of this series of Notebooks is to work with the Discovery API, and show what you can do with the data you retrieve. \n",
    "\n",
    "This specific notebook focuses on the Discovery API, showing how you can use it to retrieve sets of data stored in Discovery. After this, there are two paths you can follow: Named Entity Recognition, and Mapping and Visualisation.\n",
    "\n",
    "### Aims of this notebook\n",
    "\n",
    "- An understanding of what an API is\n",
    "- An understanding of details specific to the Discovery API\n",
    "- Workthroughs of a few examples"
   ]
  },
  {
   "cell_type": "markdown",
   "metadata": {},
   "source": [
    "## What is an api\n",
    "\n",
    "There are a few different metaphors that can be used to describe an API. Here, we are going to use the metaphor of a pet store. (Note: this metaphor is not perfect, and will get a little streched!). \n",
    "\n",
    "- The pet store is the API\n",
    "- The \n",
    "\n",
    "The customer doesn't need to know how the food is made, or what ingredients are used. They just need to know what they can order, and how to order it.\n",
    "\n",
    "##### Reqest methods\n",
    "\n",
    "There are a number of different \"methods\" that can be used to interact with an API. In this case, the word method is being used to describe the type of request - its describing the method of interacting with the database, rather than the method of sending the request.\n",
    "\n",
    "The most common methods are GET, POST, PUT, and DELETE.\n",
    "\n",
    "GET - \"I would like this bit of information\"\n",
    "POST - \"I would like to add this bit of information\"\n",
    "PUT - \"I would like to update this bit of information\"\n",
    "DELETE - \"I would like to delete this bit of information\"\n",
    "\n",
    "#### Base URL\n",
    "\n",
    "The base URL is the URL used to access all different parts of the API - it is roughly equivalent to the physical address of the pet store. Once you have reached the pet store, you can then start doing different things - if you have the base URL of the API, you can start building different requests.\n",
    "\n",
    "#### Endpoints\n",
    "\n",
    "The endpoints are the different parts of the API that you can access. In the pet store, this would be the different parts of the store - the pets, the store room, the food, the toys, etc.\n",
    "\n",
    "#### Parameters\n",
    "\n",
    "Parameters are the different options that you can use to refine your request. In the pet store, this would be the different options you have for the pets - the colour, the breed, the size, etc.\n",
    "\n",
    "#### Response codes\n",
    "\n",
    "Response codes are the different responses that you can get from the API. In the pet store, this would be the different responses you can get from the store - the pet you wanted is in stock, the pet you wanted is not in stock, the pet you wanted is in stock but is reserved, etc. Typically, there are a few different response codes that you will see:\n",
    "\n",
    "- 200 - OK - the request was successful\n",
    "- 400 - Bad Request - the request was not successful\n",
    "- 401 - Unauthorized - the request was not successful because you are not authorized to make that request\n",
    "- 403 - Forbidden - the request was not successful because you are not allowed to make that request\n",
    "- 404 - Not Found - the request was not successful because the thing you are looking for does not exist\n",
    "- 500 - Internal Server Error - the request was not successful because there was an error on the server\n",
    "\n",
    "#### Response\n",
    "\n",
    "The response is the data that you get back from the API. In the pet store, this would be the pet that you bought, or the pet that you reserved, or the pet that you were told was not in stock.\n",
    "\n",
    "\n"
   ]
  },
  {
   "cell_type": "markdown",
   "metadata": {},
   "source": [
    "## What is Discovery\n",
    "- What is Discovery\n",
    "- Why is Discovery\n",
    "- Who is Discovery\n",
    "\n",
    "[Discovery](https://discovery.nationalarchives.gov.uk/) is the catalogue for [The National Archives](https://www.nationalarchives.gov.uk/). It contains descriptions of over 32 million records held by The National Archives and more than 2,500 archives across the country. Over 9 million records are available for download. \n",
    "\n",
    "Discovery is a database, and it is the database that the Discovery API accesses. Given that there are so many records in Discovery, using the API is a good way to automate the retrieval of data - meaning you can filter and download large amounts of data without having to do it manually."
   ]
  },
  {
   "cell_type": "markdown",
   "metadata": {},
   "source": [
    "## Gathering information\n",
    "The first thing needed when working with an API is information from the documentation. This is the menu that tells you what you can order, and how to order it.\n",
    "One searching for \"Discovery API documentation\" will bring up the [main help page](https://www.nationalarchives.gov.uk/help/discovery-for-developers-about-the-application-programming-interface-api/). Some information is available here - particularly the terms of use and information on catalogue levels. From this page, you can find the [API sandbox](https://discovery.nationalarchives.gov.uk/API/sandbox/index). This page provides you with an interactive way to test out the API, and see what data you can retrieve. It also works as documentation. \n",
    "\n",
    "At this stage, try it out! See what you can retrieve.\n",
    "\n",
    "Three key bits of information you can gather from the Sandbox are:\n",
    "- The query method\n",
    "- The base URL\n",
    "- The parameters, and which ones are required vs optional"
   ]
  },
  {
   "cell_type": "markdown",
   "metadata": {},
   "source": [
    "### The list of parameters\n",
    "\n",
    "We can see that there are a considerable number of parameters that can be used. This is a side effect of the sheer range of data avaiable in Discovery - there are many different ways to filter the data.\n",
    "We can see helpfully there is only one required parameter - the search term. This is the term that will be searched for in the catalogue.\n",
    "We are going to start by listing the parameters, and giving them a true/false value to indicate whether we are going to use them. This will help us keep track of what we are doing, and make it easier to change things later on. Note that this list won't include the search term as it is required."
   ]
  },
  {
   "cell_type": "code",
   "execution_count": null,
   "metadata": {},
   "outputs": [],
   "source": []
  },
  {
   "cell_type": "markdown",
   "metadata": {},
   "source": [
    "## Building a query\n",
    "The tool we are going to use to build requests is called [Requests](https://requests.readthedocs.io/en/master/). This is a Python library that allows you to send HTTP requests - and is equivalent to talking to the waiter in the restaurant. This is a widely used library - we will go over details here, but there is plenty of documentation available online. \n",
    "\n",
    "### Simplified starter look at requests\n",
    "\n",
    "A request requires a URL, method, and parameters. \n",
    "The URL is the base URL, plus the endpoint. \n",
    "The method is the type of request - in this case, we are going to use GET. \n",
    "The parameters are the parameters we want to use.\n",
    "\n",
    "The reqest library takes these three things and combines them into a request. It then sends this request to the API, and returns the response."
   ]
  },
  {
   "cell_type": "markdown",
   "metadata": {},
   "source": [
    "## Running a query\n",
    "- Using the requests library"
   ]
  },
  {
   "cell_type": "markdown",
   "metadata": {},
   "source": [
    "## Making the results more readable\n",
    "- Creating a more manangeable list with the results we actually want. "
   ]
  },
  {
   "cell_type": "markdown",
   "metadata": {},
   "source": [
    "## Now what?\n",
    "- Getting digitised resources\n",
    "- How to deal with non-digitised resources\n",
    "- Options in the subsequent notebooks. "
   ]
  }
 ],
 "metadata": {
  "kernelspec": {
   "display_name": "Python 3",
   "language": "python",
   "name": "python3"
  },
  "language_info": {
   "name": "python",
   "version": "3.10.12"
  },
  "orig_nbformat": 4
 },
 "nbformat": 4,
 "nbformat_minor": 2
}
