{
 "cells": [
  {
   "cell_type": "markdown",
   "metadata": {},
   "source": [
    "# Welcome\n",
    "\n",
    "Hello and welcome to this series of Jupyter Notebooks looking at The National Archives Discovery tool. \n",
    "\n",
    "There are two general aims with these notebooks:\n",
    "-\tShowing how to work with the Discovery API, and why you might want to use it. \n",
    "-\tLooking into different things you might want to do with the data.\n",
    "\n",
    "We start in this specific notebook by focusing on the Discovery API: what it is, how it differs from the web search, and potential benefits of using it. After this, the notebooks split into two paths: Named Entity Recognition, and Data visualisation. \n",
    "\n",
    "\n",
    "### Aims of this notebook\n",
    "\n",
    "In this notebook, we are going to: \n",
    "-\tBriefly introduce the concept of an API; explaining what one is and the benefits of using one. \n",
    "-\tHave a look at the Discovery API and see what particular details we might expect to find. \n",
    "-\tWork through a few examples of how to use and gather data for the following notebooks. \n"
   ]
  },
  {
   "cell_type": "markdown",
   "metadata": {},
   "source": [
    "## What is an API\n",
    "\n",
    "It is best to start by expanding the acronym: an API is an Application Programming Interface. They are how customers (either you, or other programs) interact with a program. The API \"sits in front of\" the program itself, taking requests for things the program should do, and passing the instructions on to the program. \n",
    "APIs are extremely common, and many of them take human interaction. As an example, search engines all work with an API: you, as the human, provide the search term to the search app. The search app then converts this to an API query for its own database, adding in factors deemed relevant, such as prior search history or time of day.\n",
    "\n",
    "There are a few different metaphors that help understand APIs and how they work. Here, we are going to use the Pet Store metaphor. One advantage to this metaphor is that the roles are straightforward to understand: the human user is the person walking into the store; the API itself is equivalent to everything you can do within the store; and the backend/database is everything “in the back” of the store. \n",
    "\n",
    "Over the next few steps, we are going to build an API request, with a look at each building block required."
   ]
  },
  {
   "cell_type": "markdown",
   "metadata": {},
   "source": [
    "\n",
    "#### Base path\n",
    "\n",
    "The base path is the address - its where the API \"is\". In the pet store metaphor, this is equivalent to the physical address – you need to find the store itself before you can do anything with it. What this base path looks like will depend on where the API is located. For web-hosted API's the base path will look like a URL; if it is stored locally, it may be a file path; and if it is a database, it may be a database name. \n",
    "\n",
    "Discovery's API is web-hosted, so we will focus on URLs. "
   ]
  },
  {
   "cell_type": "code",
   "execution_count": null,
   "metadata": {},
   "outputs": [],
   "source": [
    "## The first building block we need is the base URL for the API we want to use. \n",
    "## For the pet shop metaphor, we'll use an example one, and set it to a variable - this way, we can use it later on in the notebook\n",
    "\n",
    "pet_shop_base_url = \"https://www.examplepetstore.com\"\n",
    "\n",
    "## we will setup the required data for the Discovery API later on in the notebook"
   ]
  },
  {
   "cell_type": "markdown",
   "metadata": {},
   "source": [
    "#### Endpoints\n",
    "\n",
    "The next building block is to specify which bit of the API you want to interact with - specified by endpoints. Once you've reached the petstore (API), you need to decide whether you want to interact with a specific pet, the inventory, or the employees. In simpler APIs there might just be one or two endpoints, in more complex APIs there will be several. \n",
    "\n",
    "Different APIs will be designed to work in different ways: if the store has a very mixed stock, it may make more sense to only have a single generic endpoint for individual pets; if the store specialises in cats, it may be appropriate to have an endpoint dedicated to cats. Often, these design choices will be made with the user, the query parameters, and the data in mind. For example, having the cats split off will allow for a more useful and relevant set of query paramaters to be specified, compared to a generic endpoint requiring filters applicable to all pets."
   ]
  },
  {
   "cell_type": "code",
   "execution_count": null,
   "metadata": {},
   "outputs": [],
   "source": [
    "## For the pet shop, we might want to interact with an individual pet\n",
    "\n",
    "pet_endpoint = \"/pet\"\n",
    "\n",
    "## If we stick the base url and this endpoint together, we get the full url for the pet endpoint - https://www.examplepetstore.com/pet\n",
    "\n",
    "## We might also want to interact with a few other endpoints:\n",
    "### the pet store's inventory of pets\n",
    "\n",
    "inventory_endpoint = \"/inventory\"\n",
    "\n",
    "### the pet store's employees\n",
    "\n",
    "employees_endpoint = \"/employees\"\n",
    "\n",
    "### the pet store's customers\n",
    "\n",
    "customers_endpoint = \"/customers\""
   ]
  },
  {
   "cell_type": "markdown",
   "metadata": {},
   "source": [
    "#### Variables within the URL\n",
    "\n",
    "When constructing a URL, you can add a variable in it. This can help if, for example, the pet store has multiple branches, and you want information from a specific one. This means you can provide a single API, but have a much broader range of information available. In documentation, this is often shown as a curly bracketed variable, such as `{branch}`."
   ]
  },
  {
   "cell_type": "code",
   "execution_count": null,
   "metadata": {},
   "outputs": [],
   "source": [
    "## Lets assume we want information about the store in Leicester\n",
    "\n",
    "specific_store = \"leicester\"                # feel free to change this to another store, and see what happens\n",
    "\n",
    "## If the documentation shows that the endpoint /store/{store_name} is available, we can use the .format() method to insert the specific store name into the endpoint\n",
    "## This will input the specific store name neatly into the endpoint. \n",
    "\n",
    "specific_store_endpoint = \"/store/{}\".format(specific_store)\n",
    "\n",
    "## To see what this looks like, we can print the endpoint\n",
    "\n",
    "print(specific_store_endpoint)"
   ]
  },
  {
   "cell_type": "markdown",
   "metadata": {},
   "source": [
    "#### Query parameters\n",
    "\n",
    "Query parameters are used to specify precisely what information you want to interact with. Often, they are useful if you do not yet know/do not want to interact with a specific ID; instead wanting to search or interact across the records avaialble via the API. If, for example, you wanted to find all ginger cats, you would likely use a query parameter to specify this. \n",
    "\n",
    "There are a few formatting detials worth highlighting for query paramaters. As they are filters for a specific query, they are always added to the end of the URL, after a question mark. They are always in the format key=value, where the key is the specific filter you want to use, and the value is what you want to filter by. If you want to use multiple query parameters, you can use an ampersand (&) to separate them."
   ]
  },
  {
   "cell_type": "code",
   "execution_count": null,
   "metadata": {},
   "outputs": [],
   "source": [
    "## Continuing with the Leicester store example, we might want to get information about the store's cats\n",
    "\n",
    "## We start by specifying that we want to interact with the inventory endpoint - remember, we are searching for potentially several cats, rather than interacting with a specific cat\n",
    "\n",
    "specific_store_inventory_endpoint = \"/store/{}/inventory\".format(specific_store)\n",
    "\n",
    "## Lets assume that we want to filter for cats, and the colour ginger. We will set these up as a dictionary.\n",
    "specific_store_cats_filters = {\n",
    "    \"type\": \"cat\",\n",
    "    \"colour\": \"ginger\"\n",
    "}\n",
    "\n",
    "## We can then append these to the endpoint. We will use a small for loop to do this\n",
    "\n",
    "specific_store_inventory_endpoint += \"?\"                                 ## Start by adding a question mark to the end of the endpoint\n",
    "\n",
    "for key, value in specific_store_cats_filters.items():                   ## Run through every item in the dictionary, and for each extract the key and value\n",
    "    specific_store_inventory_endpoint += \"{}={}\".format(key, value)      ## Append the key and value to the endpoint. For .format(), if multiple values are passed, they are inserted in the order they appear\n",
    "    if key != list(specific_store_cats_filters.keys())[-1]:              ## If the key is not the last key in the dictionary, add an ampersand to the end of the endpoint\n",
    "        specific_store_inventory_endpoint += \"&\"\n",
    "\n",
    "## We can then print the endpoint to see what it looks like\n",
    "\n",
    "print(specific_store_inventory_endpoint)"
   ]
  },
  {
   "cell_type": "markdown",
   "metadata": {},
   "source": [
    "##### Reqest methods\n",
    "\n",
    "Ther are a few different “methods” that can be used to interact with an API. In this case, the word method is being used to describe the type of request – describing what you would like to do with the database in the backend, rather than how you are sending the request. \n",
    "\n",
    "Using a different method with the same url and query parameters will return different results. For example, using a GET request will return the information about the pet, whereas a DELETE request will remove the pet from the database.\n",
    "\n",
    "Commonly used methods are (note that they are typically displayed in allcaps): \n",
    "-\tGET – I would like the information you have on this thing (e.g. I would like information about this specific pet)\n",
    "\n",
    "e.g. To get all the information about the pet with ID 1, you would use the following request:\n",
    "\n",
    "```\n",
    "method: GET\n",
    "url: https://petstore.com/pets/1\n",
    "```\n"
   ]
  },
  {
   "cell_type": "markdown",
   "metadata": {},
   "source": [
    "-   POST – I would like to add new information about this thing (e.g. I would like to add a new pet to the store, or add an image to a specific pet). \n",
    "\n",
    "e.g. To add a new pet to the store, with the ID 1. As this is a new pet, the store would not have any information, and the customer would have to provide it as part of the request payload. \n",
    "```\n",
    "method: POST\n",
    "url: https://petstore.com/pets/1\n",
    "```"
   ]
  },
  {
   "cell_type": "markdown",
   "metadata": {},
   "source": [
    "-   PUT – I would like to update the information about this thing (e.g. This pet has had a birthday and I would like to update its age). \n",
    "\n",
    "e.g. To update the information about the pet with ID 1. In this case, the body of the request would include the new information.\n",
    "\n",
    "```\n",
    "method: PUT\n",
    "url: https://petstore.com/pets/1\n",
    "```"
   ]
  },
  {
   "cell_type": "markdown",
   "metadata": {},
   "source": [
    "-   DELETE – I would like to remove this information (e.g. A pet has been bought and its records need to be removed from the store).\n",
    "\n",
    "e.g. To remove the information about the pet with ID 1.\n",
    "```\n",
    "method: DELETE\n",
    "url: https://petstore.com/pets/1\n",
    "```"
   ]
  },
  {
   "cell_type": "markdown",
   "metadata": {},
   "source": [
    "#### Response codes\n",
    "\n",
    "Response codes are the different responses that you can get from the API, and are worth noting. In the pet store, this would be the different responses you can get from the store - the pet you wanted is in stock, the pet you wanted is not in stock, the pet you wanted is in stock but is reserved, etc. Typically, there are a few different response codes that you will see:\n",
    "\n",
    "- 200 - OK - the request was successful\n",
    "- 400 - Bad Request - the request was not successful\n",
    "- 401 - Unauthorized - the request was not successful because you are not authorized to make that request\n",
    "- 403 - Forbidden - the request was not successful because you are not allowed to make that request\n",
    "- 404 - Not Found - the request was not successful because the thing you are looking for does not exist\n",
    "- 500 - Internal Server Error - the request was not successful because there was an error on the server\n",
    "\n",
    "#### Response\n",
    "\n",
    "The response is the data that you actually get back from the API. It can come in a few different formats, but the most common are JSON and XML. \n",
    "\n"
   ]
  },
  {
   "cell_type": "markdown",
   "metadata": {},
   "source": [
    "## What is Discovery\n",
    "\n",
    "[Discovery](https://discovery.nationalarchives.gov.uk/) is the catalogue for [The National Archives](https://www.nationalarchives.gov.uk/). It contains descriptions of over 32 million records held by The National Archives and more than 2,500 archives across the country. Over 9 million records are available for download. \n",
    "\n",
    "Powering Discovery is a database; it is this database that stores the information about each record and is queried every time (either by the web user interface, or the API). It is the sheer number of records in Discovery that make using the API a valuable option. Rather than having to use the web interface separately for each unique query, following the rest of this notebook you will be able to automate its use - allowing you to filter more efficiently and retrieve large amounts of data more effectively. "
   ]
  },
  {
   "cell_type": "markdown",
   "metadata": {},
   "source": [
    "## Gathering information\n",
    "As we saw above, the key thing you need when working with an API is the documentation. This provides information on what requests you can build: what endpoints are available, what query parameters you can use, what methods they accept, and so on. This information is often provided either directly alongside, or is similarly accessible as, the API. \n",
    "\n",
    "To start finding information on Discovery, searching the internet for \n",
    " \"Discovery API documentation\" will bring up the [main help page](https://www.nationalarchives.gov.uk/help/discovery-for-developers-about-the-application-programming-interface-api/). Some information is available here - particularly the terms of use and information on catalogue levels. From this page, you can find the [API sandbox](https://discovery.nationalarchives.gov.uk/API/sandbox/index). This page provides you with an interactive way to test out the API, and see what data you can retrieve. It also works as documentation. \n",
    "\n",
    "At this stage, try it out! Have a go with the sandbox and see what you can retrieve.\n",
    "\n",
    "Three key bits of information you can gather from the Sandbox are:\n",
    "- The query method\n",
    "- The base URL\n",
    "- The parameters, and which ones are required vs optional"
   ]
  },
  {
   "cell_type": "code",
   "execution_count": null,
   "metadata": {},
   "outputs": [],
   "source": [
    "base_discovery_url = \"https://discovery.nationalarchives.gov.uk/API\"\n",
    "\n",
    "search_endpoint = \"/search/records\""
   ]
  },
  {
   "cell_type": "markdown",
   "metadata": {},
   "source": [
    "### What can we find out\n",
    "The first thing we find wen looking into the sandbox is the number of different paths/endpoints available. This represents the variety of works typically undertaken with the Archives. You may be looking for the authority about a record, or you may be looking for details about a record with a specific identification. If we investigate these endpoints closer, we can see that they all require an identification number for the record(s) being investigated. \n",
    "\n",
    "For the purpose of this Notebook, we are going to stick to searching for records. So, we will stick to the very last endpoint in the list: `/search/records`. The documentation shows us that this endpoint will accept GET requests only, logical for a search API. \n",
    "\n",
    "When expanded, we can see that there are a lot of parameters we can see there are a considerable range of parameters available to use. This is an effect of two things: \n",
    "- The range of data available on Discovery\n",
    "- The details available about each record.  \n",
    "\n",
    "Helpfully for the user, only one of these parameters is required: the search term. \n",
    "\n",
    "We will start by building a list of all the optional parameters, and marking each one with a true/false value depending on whether we intend to use it. For simplicity, we are marking them all as false for this first example. Note that search query is not on this list - it is required, and so will be added to the request regardless.\n"
   ]
  },
  {
   "cell_type": "code",
   "execution_count": null,
   "metadata": {},
   "outputs": [],
   "source": [
    "## We will set up the list as a set of dictionaries, with each having a name and a true/false value\n",
    "## for whether we are going to use it.\n",
    "## Note: we are not going to include all the parameters, as there are a lot available, and with 3 different\n",
    "## bits of information for each, it would take up a lot of space. We will include a few, and you can\n",
    "## add more if you want to.\n",
    "\n",
    "search_parameters = [\n",
    "    {\n",
    "        name = \"record series\",\n",
    "        discovery_name = \"sps.recordSeries\",\n",
    "        use = False\n",
    "    },\n",
    "    {\n",
    "        name = \"date from\",\n",
    "        discovery_name = \"sps.dateFrom\",\n",
    "        use = False\n",
    "    },\n",
    "    {\n",
    "        name = \"date to\",\n",
    "        discovery_name = \"sps.dateTo\",\n",
    "        use = False\n",
    "    },\n",
    "    {\n",
    "        name = \"time periods\",\n",
    "        discovery_name = \"sps.timePeriods\",\n",
    "        use = False\n",
    "    },\n",
    "    {\n",
    "        name = \"record repositories\",\n",
    "        discovery_name = \"sps.recordRepositories\",\n",
    "        use = False\n",
    "    },\n",
    "    {\n",
    "        name = \"departments\",\n",
    "        discovery_name = \"sps.departments\",\n",
    "        use = False\n",
    "    },\n",
    "    {\n",
    "        name = \"taxonomy subjects\",\n",
    "        discovery_name = \"sps.taxonomySubjects\",\n",
    "        use = False\n",
    "    },\n",
    "    {\n",
    "        name = \"catalougue levels\",\n",
    "        discovery_name = \"sps.catalogueLevels\",\n",
    "        use = False\n",
    "    },\n",
    "    {\n",
    "        name = \"closure statuses\",\n",
    "        discovery_name = \"sps.closureStatuses\",\n",
    "        use = False\n",
    "    }\n",
    "    {\n",
    "        name = \"held by code\",\n",
    "        discovery_name = \"sps.heldByCode\",\n",
    "        use = False\n",
    "    },\n",
    "    {\n",
    "        name = \"document type\",\n",
    "        discovery_name = \"sps.documentType\",\n",
    "        use = False\n",
    "    }\n",
    "]"
   ]
  },
  {
   "cell_type": "markdown",
   "metadata": {},
   "source": [
    "## Building a query\n",
    "The tool we are going to use to build requests is called [Requests](https://requests.readthedocs.io/en/master/). This is a Python library that allows you to send HTTP requests - and is equivalent to talking to the waiter in the restaurant. This is a widely used library - we will go over details here, but there is plenty of documentation available online. The first thing we need to do is import the library. Note: we are going to assume you do not have the library installed, and so will install it here. In real code, you do not need to include the installation step."
   ]
  },
  {
   "cell_type": "code",
   "execution_count": null,
   "metadata": {},
   "outputs": [],
   "source": [
    "%pip install requests\n",
    "import requests"
   ]
  },
  {
   "cell_type": "markdown",
   "metadata": {},
   "source": [
    "### Simplified starter look at requests\n",
    "\n",
    "A request requires a URL, method, and parameters. \n",
    "The URL is the base URL, plus the endpoint. \n",
    "The method is the type of request - in this case, we are going to use GET. \n",
    "The parameters are the parameters we want to use.\n",
    "\n",
    "The reqest library takes these three things and combines them into a request. It then sends this request to the API, and returns the response."
   ]
  },
  {
   "cell_type": "markdown",
   "metadata": {},
   "source": [
    "## Running a query\n",
    "Now the various bits of the query have been defined, we can put them together and run the query. When using the reqesuts library, this is very straightforwards, and can be done in a single line of code. \n",
    "This line of code gathers together the base URL, the endpoint, and the parameters, and sends them to the API. The API then sends back a response, which is stored in the variable called \"response\". Here, the response is printed out - this lets us see what the response looks like. In reality, printing is a good option while testing, and may be useful for real use. There are, however, other things you may want to do. We will look at one of these later on."
   ]
  },
  {
   "cell_type": "markdown",
   "metadata": {},
   "source": [
    "## Making the results more readable\n",
    "\n",
    "Looking at the \"default\" response we recieved from Discovery, we can see that there is a lot of data for each record - it will probably be useful to reduce this down. As the data returned from discovery is a JSON file, we can use the JSON library to make this easier.\n",
    "Demonstrated here is a way to filter the response down to just the Context, Reference Number, and Held-by data. \n",
    "To start, a new dictionary is created. This will be used to store the data we want to keep.\n",
    "We then loop through the response, and for each record we select the data we want to keep. This is then added to the new dictionary.\n",
    "Finally, we print out the new dictionary. This is much easier to read than the default response."
   ]
  },
  {
   "cell_type": "markdown",
   "metadata": {},
   "source": [
    "## Now what?\n",
    "- Getting digitised resources\n",
    "- How to deal with non-digitised resources\n",
    "- Options in the subsequent notebooks. \n",
    "\n",
    "One of the limitations of the Discovery API is that it can only recover data in the catalogue itself - this is the metadata about the record, and not the record itself. There are diff\n",
    "\n",
    "##### Digitised records\n",
    "\n",
    "Some records in Discovery have been digitised. This information is not yet avaiable in the Discovery API, but we can use the {number} parameter to check if it is avaiable. \n",
    "\n",
    "##### Non-digitised records\n",
    "\n",
    "For non digitised records, the only approach is to go to The National Archives and look at the record in person. Instructions for how to do this can be found [here](https://www.nationalarchives.gov.uk/help-with-your-research/visit-us/) - note in particular that some records need to be ordered in advance to ensure they are avaiable when you visit. \n",
    "\n",
    "##### Options in the subsequent notebooks\n",
    "\n",
    "Now that we have searched Discovery for some data and retreived it - the next notebooks start to do things with them. There are two paths that can be followed - Named Entity Recognition, and Mapping and Visualisation. \n",
    "\n",
    "##### Named Entity Recognition (NER)\n",
    "\n",
    "##### Mapping and Visualisation\n",
    "\n",
    "Here, the notebooks take you through the process of visualising data retrived from ships logs. The general aim of this series of notebooks is to take the data we can gather from the Discovery API, and show how we can work with it, to provide additional visual context and information.\n",
    "\n"
   ]
  }
 ],
 "metadata": {
  "kernelspec": {
   "display_name": "Python 3",
   "language": "python",
   "name": "python3"
  },
  "language_info": {
   "codemirror_mode": {
    "name": "ipython",
    "version": 3
   },
   "file_extension": ".py",
   "mimetype": "text/x-python",
   "name": "python",
   "nbconvert_exporter": "python",
   "pygments_lexer": "ipython3",
   "version": "3.10.12"
  },
  "orig_nbformat": 4
 },
 "nbformat": 4,
 "nbformat_minor": 2
}
