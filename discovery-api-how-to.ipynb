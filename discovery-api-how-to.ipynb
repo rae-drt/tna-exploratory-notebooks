{
 "cells": [
  {
   "cell_type": "markdown",
   "metadata": {},
   "source": [
    "# Welcome\n",
    "\n",
    "Hello and welcome to this series of Jupyter Notebooks looking at The National Archives Discovery tool. \n",
    "\n",
    "There are two general aims with these notebooks:\n",
    "-\tShowing how to work with the Discovery API, and why you might want to use it. \n",
    "-\tLooking into different things you might want to do with the data.\n",
    "\n",
    "We start in this specific notebook by focusing on the Discovery API: what it is, how it differs from the web search, and potential benefits of using it. After this, the notebooks split into two paths: Named Entity Recognition, and Data visualisation. \n",
    "\n",
    "\n",
    "### Aims of this notebook\n",
    "\n",
    "In this notebook, we are going to: \n",
    "-\tBriefly introduce the concept of an API; explaining what one is and the benefits of using one. \n",
    "-\tHave a look at the Discovery API and see what particular details we might expect to find. \n",
    "-\tWork through a few examples of how to use and gather data for the following notebooks. \n"
   ]
  },
  {
   "cell_type": "markdown",
   "metadata": {},
   "source": [
    "## What is an api\n",
    "\n",
    "It is best to start by expanding the acronym: an API is an Application Programming Interface. They are how two different applications send and receive data between each other using software commands. APIs are extremely common, and many of them take human interaction as well. As an example, search engines all work with an API: you, as the human, provide the search term to the search app. The search app then converts this to an API query for its own database, adding in factors deemed relevant, such as search histories or time of day.\n",
    "\n",
    "There are a few different metaphors that help understand APIs and how they work. Here, we are going to use the Pet Store metaphor. One advantage to this metaphor is that the roles are straightforward to understand: the human user is the person walking into the store; the API itself is equivalent to everything you can do within the store; and the backend/database is everything “in the back” of the store. \n",
    "\n",
    "We are going to go through the various building blocks of a typical API request, showing what each part is, and how it should be used. \n",
    "\n",
    "#### Base URL\n",
    "\n",
    "The base URL is used to access all different parts of the API. In the pet store metaphor, this is equivalent to the physical address – you need to find the store itself before you can do anything with it. The base URL will be at the start of every request we send to the Discovery API.\n",
    "\n",
    "#### Endpoints\n",
    "\n",
    "Once you have your base URL, you need to specify what parts of the API you want to interact with. In simpler APIs there might just be one, in more complex APIs there will be several. In the pet store metaphor, you might want information about a specific pet, or you might want more general information about the entire store. \n",
    "\n",
    "#### Query parameters\n",
    "\n",
    "With a base URL and an endpoint, you then need to specify exactly which “thing” you want to interact with, this being done with query strings. In the petstore metaphor, you would need to provide an identification mark to find information about a specific pet. \n",
    "\n",
    "\n",
    "##### Reqest methods\n",
    "\n",
    "Ther are a few different “methods” that can be used to interact with an API. In this case, the word method is being used to describe the type of request – describing what you would like to do with the database in the backend, rather than how you are sending the request. \n",
    "Commonly used methods are (note that they are typically displayed in allcaps): \n",
    "-\tGET\n",
    "-\tPOST\n",
    "-\tPUT\n",
    "-\tDELETE\n",
    "\n",
    " GET – I would like the information you have on this thing (e.g. I would like information about this specific pet)\n",
    "\n",
    "POST – I would like to add new information about this thing (e.g. I would like to add a new pet to the store, or add an image to a specific pet). \n",
    "\n",
    "PUT – I would like to update the information about this thing (e.g. This pet has had a birthday and I would like to update its age). \n",
    "\n",
    "DELETE – I would like to remove this information (e.g. A pet has been bought and its records need to be removed from the store).\n",
    "\n",
    "#### Response codes\n",
    "\n",
    "Response codes are the different responses that you can get from the API, and are worth noting. In the pet store, this would be the different responses you can get from the store - the pet you wanted is in stock, the pet you wanted is not in stock, the pet you wanted is in stock but is reserved, etc. Typically, there are a few different response codes that you will see:\n",
    "\n",
    "- 200 - OK - the request was successful\n",
    "- 400 - Bad Request - the request was not successful\n",
    "- 401 - Unauthorized - the request was not successful because you are not authorized to make that request\n",
    "- 403 - Forbidden - the request was not successful because you are not allowed to make that request\n",
    "- 404 - Not Found - the request was not successful because the thing you are looking for does not exist\n",
    "- 500 - Internal Server Error - the request was not successful because there was an error on the server\n",
    "\n",
    "#### Response\n",
    "\n",
    "The response is the data that you actually get back from the API. It can come in a few different formats, but the most common are JSON and XML. \n",
    "\n"
   ]
  },
  {
   "cell_type": "markdown",
   "metadata": {},
   "source": [
    "## What is Discovery\n",
    "\n",
    "[Discovery](https://discovery.nationalarchives.gov.uk/) is the catalogue for [The National Archives](https://www.nationalarchives.gov.uk/). It contains descriptions of over 32 million records held by The National Archives and more than 2,500 archives across the country. Over 9 million records are available for download. \n",
    "\n",
    "Powering Discovery is a database; it is this database that stores the information about each record and is queried every time (either by the web user interface, or the API). It is the sheer number of records in Discovery that make using the API a valuable option. Rather than having to use the web interface separately for each unique query, following the rest of this notebook you will be able to automate its use - allowing you to filter more efficiently and retrieve large amounts of data more effectively. "
   ]
  },
  {
   "cell_type": "markdown",
   "metadata": {},
   "source": [
    "## Gathering information\n",
    "As we saw above, the key thing you need when working with an API is the documentation. This provides information on what requests you can build: what endpoints are available, what query parameters you can use, what methods they accept, and so on. This information is often provided either directly alongside, or is similarly accessible as, the API. \n",
    "\n",
    "To start finding information on Discovery, searching the internet for \n",
    " \"Discovery API documentation\" will bring up the [main help page](https://www.nationalarchives.gov.uk/help/discovery-for-developers-about-the-application-programming-interface-api/). Some information is available here - particularly the terms of use and information on catalogue levels. From this page, you can find the [API sandbox](https://discovery.nationalarchives.gov.uk/API/sandbox/index). This page provides you with an interactive way to test out the API, and see what data you can retrieve. It also works as documentation. \n",
    "\n",
    "At this stage, try it out! Have a go with the sandbox and see what you can retrieve.\n",
    "\n",
    "Three key bits of information you can gather from the Sandbox are:\n",
    "- The query method\n",
    "- The base URL\n",
    "- The parameters, and which ones are required vs optional"
   ]
  },
  {
   "cell_type": "markdown",
   "metadata": {},
   "source": [
    "### What can we find out\n",
    "The first thing we find wen looking into the sandbox is the number of different paths/endpoints available. This represents the variety of works typically undertaken with the Archives. You may be looking for the authority about a record, or you may be looking for details about a record with a specific identification. If we investigate these endpoints closer, we can see that they all require an identification number for the record(s) being investigated. \n",
    "\n",
    "For the purpose of this Notebook, we are going to stick to searching for records. So, we will stick to the very last endpoint in the list: `/search/records`. The documentation shows us that this endpoint will accept GET requests only, logical for a search API. \n",
    "\n",
    "When expanded, we can see that there are a lot of parameters we can see there are a considerable range of parameters available to use. This is an effect of two things: \n",
    "- The range of data available on Discovery\n",
    "- The details available about each record.  \n",
    "\n",
    "Helpfully for the user, only one of these parameters is required: the search term. \n",
    "\n",
    "We will start by building a list of all the optional parameters, and marking each one with a true/false value depending on whether we intend to use it. For simplicity, we are marking them all as false for this first example. Note that search query is not on this list - it is required, and so will be added to the request regardless.\n"
   ]
  },
  {
   "cell_type": "markdown",
   "metadata": {},
   "source": [
    "## Building a query\n",
    "The tool we are going to use to build requests is called [Requests](https://requests.readthedocs.io/en/master/). This is a Python library that allows you to send HTTP requests - and is equivalent to talking to the waiter in the restaurant. This is a widely used library - we will go over details here, but there is plenty of documentation available online. \n",
    "\n",
    "### Simplified starter look at requests\n",
    "\n",
    "A request requires a URL, method, and parameters. \n",
    "The URL is the base URL, plus the endpoint. \n",
    "The method is the type of request - in this case, we are going to use GET. \n",
    "The parameters are the parameters we want to use.\n",
    "\n",
    "The reqest library takes these three things and combines them into a request. It then sends this request to the API, and returns the response."
   ]
  },
  {
   "cell_type": "markdown",
   "metadata": {},
   "source": [
    "## Running a query\n",
    "Now the various bits of the query have been defined, we can put them together and run the query. When using the reqesuts library, this is very straightforwards, and can be done in a single line of code. \n",
    "This line of code gathers together the base URL, the endpoint, and the parameters, and sends them to the API. The API then sends back a response, which is stored in the variable called \"response\". Here, the response is printed out - this lets us see what the response looks like. In reality, printing is a good option while testing, and may be useful for real use. There are, however, other things you may want to do. We will look at one of these later on."
   ]
  },
  {
   "cell_type": "markdown",
   "metadata": {},
   "source": [
    "## Making the results more readable\n",
    "\n",
    "Looking at the \"default\" response we recieved from Discovery, we can see that there is a lot of data for each record - it will probably be useful to reduce this down. As the data returned from discovery is a JSON file, we can use the JSON library to make this easier.\n",
    "Demonstrated here is a way to filter the response down to just the Context, Reference Number, and Held-by data. \n",
    "To start, a new dictionary is created. This will be used to store the data we want to keep.\n",
    "We then loop through the response, and for each record we select the data we want to keep. This is then added to the new dictionary.\n",
    "Finally, we print out the new dictionary. This is much easier to read than the default response."
   ]
  },
  {
   "cell_type": "markdown",
   "metadata": {},
   "source": [
    "## Now what?\n",
    "- Getting digitised resources\n",
    "- How to deal with non-digitised resources\n",
    "- Options in the subsequent notebooks. \n",
    "\n",
    "One of the limitations of the Discovery API is that it can only recover data in the catalogue itself - this is the metadata about the record, and not the record itself. There are diff\n",
    "\n",
    "##### Digitised records\n",
    "\n",
    "Some records in Discovery have been digitised. This information is not yet avaiable in the Discovery API, but we can use the {number} parameter to check if it is avaiable. \n",
    "\n",
    "##### Non-digitised records\n",
    "\n",
    "For non digitised records, the only approach is to go to The National Archives and look at the record in person. Instructions for how to do this can be found [here](https://www.nationalarchives.gov.uk/help-with-your-research/visit-us/) - note in particular that some records need to be ordered in advance to ensure they are avaiable when you visit. \n",
    "\n",
    "##### Options in the subsequent notebooks\n",
    "\n",
    "Now that we have searched Discovery for some data and retreived it - the next notebooks start to do things with them. There are two paths that can be followed - Named Entity Recognition, and Mapping and Visualisation. \n",
    "\n",
    "###### Named Entity Recognition (NER)\n",
    "\n",
    "##### Mapping and Visualisation\n",
    "\n",
    "Here, the notebooks take you through the process of visualising data retrived from ships logs. The general aim of this series of notebooks is to take the data we can gather from the Discovery API, and show how we can work with it, to provide additional visual context and information.\n",
    "\n"
   ]
  }
 ],
 "metadata": {
  "kernelspec": {
   "display_name": "Python 3",
   "language": "python",
   "name": "python3"
  },
  "language_info": {
   "name": "python",
   "version": "3.10.12"
  },
  "orig_nbformat": 4
 },
 "nbformat": 4,
 "nbformat_minor": 2
}
