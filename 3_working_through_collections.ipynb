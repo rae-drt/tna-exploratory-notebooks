{
  "cells": [
    {
      "cell_type": "markdown",
      "metadata": {},
      "source": [
        "# 3 - Other endpoints"
      ]
    },
    {
      "cell_type": "markdown",
      "metadata": {},
      "source": [
        "There are further endpoints available on Discovery, with more specific functionality. We will look at some basic useage examples of the `children` and `context` endpoints here, and provide starting information on the final ones for you to explore.\n",
        "\n",
        "As always, we start by installing and importing the libraries we need."
      ]
    },
    {
      "cell_type": "code",
      "execution_count": null,
      "metadata": {
        "colab": {
          "base_uri": "https://localhost:8080/"
        },
        "id": "TjuEOC9EGMxJ",
        "outputId": "6f2ac7ff-fc0e-40c1-ea8c-0995fa0e73eb"
      },
      "outputs": [],
      "source": [
        "%pip install -q requests\n",
        "%pip install -q json\n",
        "import requests\n",
        "import json"
      ]
    },
    {
      "cell_type": "markdown",
      "metadata": {},
      "source": [
        "## 3.1 Working through collections"
      ]
    },
    {
      "cell_type": "markdown",
      "metadata": {},
      "source": [
        "Records are typically arragned into collections, and Discovery has two endpoints to help you navigate through them, depending on whether you want to climb or descend the hierarchy.\n",
        "\n",
        "From [notebook 2](2-working-through-results.ipynb) we gathered the ID of a record and of its parent, which we will use here. "
      ]
    },
    {
      "cell_type": "code",
      "execution_count": null,
      "metadata": {
        "id": "pKuAC4OvGMxK"
      },
      "outputs": [],
      "source": [
        "base_discovery_url = \"https://discovery.nationalarchives.gov.uk/API\""
      ]
    },
    {
      "cell_type": "code",
      "execution_count": null,
      "metadata": {
        "id": "6A_svvui4pwy"
      },
      "outputs": [],
      "source": [
        "parent_id = \"F236668\""
      ]
    },
    {
      "cell_type": "code",
      "execution_count": null,
      "metadata": {},
      "outputs": [],
      "source": [
        "record_id = {harshad, fill this in}"
      ]
    },
    {
      "cell_type": "markdown",
      "metadata": {},
      "source": [
        "### 3.1.1 - Children endpoint"
      ]
    },
    {
      "cell_type": "markdown",
      "metadata": {
        "id": "aW4B2JXIap08"
      },
      "source": [
        "The first new endpoint we are going to use is `/records/children/{parentId}`. The parent ID here is case-sensitive, so if we use `f`236668 instead of `F`236668 then it won't return any result.\n",
        "\n",
        "This endpoint lets you get all children of a record, based on its ID. Combined with the previous ID, you can get all siblings of a record, thus the whole collection."
      ]
    },
    {
      "cell_type": "code",
      "execution_count": null,
      "metadata": {
        "id": "g_QO3LkYbm-g"
      },
      "outputs": [],
      "source": [
        "collection_endpoint = \"/records/children/\""
      ]
    },
    {
      "cell_type": "code",
      "execution_count": null,
      "metadata": {
        "colab": {
          "base_uri": "https://localhost:8080/"
        },
        "id": "J-ZgH0ykcNVY",
        "outputId": "4c3b6e9e-429f-47e5-d64e-444e90b85854"
      },
      "outputs": [],
      "source": [
        "full_search_url = base_discovery_url + collection_endpoint + parent_id\n",
        "\n",
        "response = requests.request(\"GET\", full_search_url)\n",
        "\n",
        "print(json.dumps(response.json(), indent=4))"
      ]
    },
    {
      "cell_type": "markdown",
      "metadata": {
        "id": "Rx6irFRGHn9w"
      },
      "source": [
        "From this first test run, we can check how many results were returned initially, and whether there are more results available. "
      ]
    },
    {
      "cell_type": "code",
      "execution_count": null,
      "metadata": {
        "colab": {
          "base_uri": "https://localhost:8080/"
        },
        "id": "EC9ExH_Fhi6F",
        "outputId": "ff1a1e1e-9507-4dca-9f54-1688264c0436"
      },
      "outputs": [],
      "source": [
        "print(len(response.json()['assets']), response.json()['hasMoreAfterLast'])"
      ]
    },
    {
      "cell_type": "markdown",
      "metadata": {
        "id": "y2vBWi77LitW"
      },
      "source": [
        "As we know there are more results available, we will start by saving this first set of results as a new list."
      ]
    },
    {
      "cell_type": "code",
      "execution_count": null,
      "metadata": {
        "colab": {
          "base_uri": "https://localhost:8080/"
        },
        "id": "ocT2prWAH_1Y",
        "outputId": "3626136a-0c4c-41e2-91cf-c8654bbdca21"
      },
      "outputs": [],
      "source": [
        "sibling_records = response.json()['assets']"
      ]
    },
    {
      "cell_type": "markdown",
      "metadata": {
        "id": "8OzmK5M9Ib4Q"
      },
      "source": [
        "We can then set up a loop to get the rest of the results, checking to see if `hasMoreAfterLast` is true. If it is, we will use the ID of the last record in the list to get the next set of results. When `hasMoreAfterLast` is false we know we have all the results."
      ]
    },
    {
      "cell_type": "code",
      "execution_count": null,
      "metadata": {
        "colab": {
          "base_uri": "https://localhost:8080/"
        },
        "id": "Es6ybLCJI0wu",
        "outputId": "6960f9fd-2100-4c1d-9983-9008eafdbfcc"
      },
      "outputs": [],
      "source": [
        "while(response.json()['hasMoreAfterLast']):\n",
        "  last_id = response.json()['assets'][-1][\"id\"]\n",
        "  full_search_url = base_discovery_url + collection_endpoint + parent_id + \"?direction=NEXT&batchStartRecordId=\" + last_id\n",
        "  response = requests.request(\"GET\", full_search_url)\n",
        "  sibling_records = sibling_records + response.json()['assets'][1:]\n",
        "print(len(sibling_records))"
      ]
    },
    {
      "cell_type": "markdown",
      "metadata": {
        "id": "kuS1AqnOgeCP"
      },
      "source": [
        "With different levels of hierarchy in different record series, it can also be worth using this endpoint to check whether there are any further children of any children that have been found. Here, we will just check the first child of the first record in the list, but this could be incorporated into the loop above recursively."
      ]
    },
    {
      "cell_type": "code",
      "execution_count": null,
      "metadata": {
        "id": "aXQ5-G6qgvM7"
      },
      "outputs": [],
      "source": [
        "parent_id =  \"N14309820\" # TODO: Harshad, confirm this is a child of the parent in the earlier cell and make it clear if it is"
      ]
    },
    {
      "cell_type": "code",
      "execution_count": null,
      "metadata": {
        "colab": {
          "base_uri": "https://localhost:8080/"
        },
        "id": "14ahq8pCgskJ",
        "outputId": "794e86a8-ceca-4c06-a73d-e2d0831355ef"
      },
      "outputs": [],
      "source": [
        "full_search_url = base_discovery_url + collection_endpoint + parent_id\n",
        "\n",
        "response = requests.request(\"GET\", full_search_url)\n",
        "\n",
        "print(json.dumps(response.json(), indent=4))"
      ]
    },
    {
      "cell_type": "markdown",
      "metadata": {
        "id": "RPz8r7ckLvxb"
      },
      "source": [
        "In this case, there are no further children, so we can move on to the next endpoint."
      ]
    },
    {
      "cell_type": "markdown",
      "metadata": {},
      "source": [
        "### 3.1.2 - Context endpoint"
      ]
    },
    {
      "cell_type": "markdown",
      "metadata": {},
      "source": [
        "The context endpoint is roughly the opposite of the children endpoint. Providing and ID will return the entire hierarchy above it, up to and including the holding information's ARCHON data. The returned data are similarly structured to the children endpoint. Note: this endpoint is a bit slow, but can proivide a lot of data in a single call - consider if it is the best option for your use case before using it."
      ]
    },
    {
      "cell_type": "code",
      "execution_count": null,
      "metadata": {},
      "outputs": [],
      "source": [
        "context_endpoint = \"/records/context/\"\n",
        "\n",
        "context_full_search_url = base_discovery_url + context_endpoint + record_id\n",
        "\n",
        "response = requests.request(\"GET\", context_full_search_url)\n",
        "\n",
        "print(json.dumps(response.json(), indent=4))"
      ]
    },
    {
      "cell_type": "markdown",
      "metadata": {},
      "source": [
        "# 3.2 - The other endpoints\n",
        "\n",
        "At this stage, we have still note covered all the endpoints available on Discovery, but to avoid many more notebooks, we are going to finish here with just a brief look at the others. \n",
        "\n",
        "They all work in a similar way to the endpoints we have already covered, with the documentation provided in the Sandbox. With some adjustments to query parameters and endpoints, the code and logic in these notebooks can be used to explore them.\n",
        "\n",
        "The endpoints are grouped by general area of work: \n",
        "`SearchForRepositories` and `Repository` are used to find archives and repositories, returning data such as physical addresses of the organisation, or holding information on who holds the repository.\n",
        "`SearchForFileAuthorities` and `FileAuthority` are used to find information on {I don’t know}.\n"
      ]
    },
    {
      "cell_type": "markdown",
      "metadata": {},
      "source": [
        "# 4 - Conclusion\n",
        "\n",
        "Discovery is a rich and varied database, providing access to TNAs rich and diverse record collection. Fittingly, there are a range of different endpoints made available to answer the many different research questions that may be asked. \n",
        "\n",
        "Hopefully these notebooks have helped introduce Discovery API, and shown how to gather precise and accurate data efficiently and effectively, and given you the confidence to use it in your future research projects. \n",
        "\n",
        "The next section of notebooks are some case studies, giving examples of what you can do with the data you’ve gathered so far. \n"
      ]
    }
  ],
  "metadata": {
    "colab": {
      "provenance": []
    },
    "kernelspec": {
      "display_name": "Python 3",
      "name": "python3"
    },
    "language_info": {
      "codemirror_mode": {
        "name": "ipython",
        "version": 3
      },
      "file_extension": ".py",
      "mimetype": "text/x-python",
      "name": "python",
      "nbconvert_exporter": "python",
      "pygments_lexer": "ipython3",
      "version": "3.10.12"
    }
  },
  "nbformat": 4,
  "nbformat_minor": 0
}
