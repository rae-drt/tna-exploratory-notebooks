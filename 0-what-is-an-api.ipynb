{
 "cells": [
  {
   "cell_type": "markdown",
   "metadata": {},
   "source": [
    "## 0 - What is an API\n",
    "\n",
    "### 0.0 - Aim of this notebook\n",
    "\n",
    "This notebook aims to introduce you to the concept of an API, how they work, and how to interact with them. This notebook is not necessary to complete the rest of the notebooks here, but may be useful to start with if you have not worked with APIs or making HTTP requests with Python before.\n",
    "\n",
    "### 0.1 - Introduction\n",
    "\n",
    "Lets start by expanding the acronym: an API is an Application Programming Interface. They are how customers (either you, or other programs) interact with a program. The API \"sits in front of\" the program itself, taking requests, and passing the instructions on to the program. \n",
    "APIs are extremely common, and many of them take human interaction. As an example, Search Engines work as an API. You, as the human, provide the search term in a UI; this is then converted into an API request by adding in factors deemed relevant, such as prior search history or time of day.\n",
    "\n",
    "We are going to use a Pet Store as a metaphor to exlain APIs. The roles are: the user is the person walking into the store; the API is equivalent to everything you can do within the store; and the backend/database is everything “in the back” of the store. \n",
    "\n",
    "Over the next few steps, we are going to build an API request using this metaphor, looking at each building block required."
   ]
  },
  {
   "cell_type": "markdown",
   "metadata": {},
   "source": [
    "### 0.2 - Building blocks\n",
    "\n",
    "#### 0.2.1 - Base path\n",
    "\n",
    "The base path is the address - where the API \"is\". For the pet store, this is equivalent to the physical address – you need to find the store itself before you can do anything with it. What this base path looks like will depend on where the API is located. For web-hosted API's the base path will look like a URL; if it is stored locally, it may be a file path; and if it is a database, it may be a database name. \n",
    "\n",
    "Discovery's API is web-hosted, so we will focus on URLs. "
   ]
  },
  {
   "cell_type": "code",
   "execution_count": null,
   "metadata": {},
   "outputs": [],
   "source": [
    "## The first building block we need is the base URL for the API we want to use. \n",
    "## For the pet shop metaphor, we'll use an example one, and set it to a variable - this way, we can use it later on in the notebook\n",
    "\n",
    "pet_shop_base_url = \"https://www.examplepetstore.com\""
   ]
  },
  {
   "cell_type": "markdown",
   "metadata": {},
   "source": [
    "#### 0.2.2 - Endpoints\n",
    "\n",
    "APIs are typically multi-functional; the next building block (an endpoint) is used to specify which function you want to interact with. To continue the metaphor, once you've reached the petstore (the API), you need to decide whether you want to interact with a specific pet, the inventory, or the employees. In simpler APIs there might just be one or two endpoints, in more complex APIs there will be several. \n",
    "\n",
    "The number and style of endpoints avaiable in an API will depend on different factors. Often, these design choices will be made with the user needs, query parameters, and data in mind. For example, when considering endpoints to search inentory in The Pet Store metaphor: if the store has a very mixed stock, it may make more sense to only have a single generic endpoint for individual pets with generalised filters; if the store specialises in cats, it may be appropriate to have an endpoint dedicated to cats with more specific qeury parameters. \n",
    "\n",
    "This code box below shows a few example endpoints you might expect to see in a pet store API."
   ]
  },
  {
   "cell_type": "code",
   "execution_count": null,
   "metadata": {},
   "outputs": [],
   "source": [
    "## For the pet shop, we might want to interact with an individual pet\n",
    "\n",
    "pet_endpoint = \"/pet\"\n",
    "\n",
    "## If we stick the base url and this endpoint together, we get the full url for the pet endpoint - https://www.examplepetstore.com/pet\n",
    "\n",
    "## We might also want to interact with a few other endpoints:\n",
    "### the pet store's inventory of pets\n",
    "\n",
    "inventory_endpoint = \"/inventory\"\n",
    "\n",
    "### the pet store's employees\n",
    "\n",
    "employees_endpoint = \"/employees\"\n",
    "\n",
    "### the pet store's customers\n",
    "\n",
    "customers_endpoint = \"/customers\""
   ]
  },
  {
   "cell_type": "markdown",
   "metadata": {},
   "source": [
    "#### 0.2.3 - Variables within the URL\n",
    "\n",
    "When designing an API, it may be useful to have a variable within the URL as this can help provide specificity to the request. If, for example, there were multiple branches of The Pet Store, this design choice allow you to specify which branch you want information from. In documentation, this is often shown as a curly bracketed variable, such as `{branch}`."
   ]
  },
  {
   "cell_type": "code",
   "execution_count": null,
   "metadata": {},
   "outputs": [],
   "source": [
    "## Lets assume we want information about the store in Leicester\n",
    "\n",
    "specific_store = \"leicester\"                # feel free to change this to another store, and see what happens\n",
    "\n",
    "## If the documentation shows that the endpoint /store/{store_name} is available, we can use Python to stick the store name onto the end of the endpoint\n",
    "\n",
    "specific_store_endpoint = \"/store/\" + specific_store\n",
    "\n",
    "## Lets see what this looks like\n",
    "\n",
    "print(specific_store_endpoint)"
   ]
  },
  {
   "cell_type": "markdown",
   "metadata": {},
   "source": [
    "#### 0.2.4 - Query parameters\n",
    "\n",
    "Query parameters are specific filters, used to specify precicely what information you want to interact with. The Pet Store may have an endpoint letting you find information about all the pets they have available; if you knew you wanted a ginger cat, you could use a query parameter to specify this.\n",
    "\n",
    "Query parameters come with specific formatting requirements: \n",
    "1 - They are always added to the end of the URL, after a question mark.\n",
    "2 - They are always in the format `key=value`, where the key is the specific filter you want to use, and the value is what you want to filter by.\n",
    "3 - If you want to use multiple query parameters, you can use an ampersand (`&`) to separate them."
   ]
  },
  {
   "cell_type": "code",
   "execution_count": null,
   "metadata": {},
   "outputs": [],
   "source": [
    "## We start by specifying that we want to interact with the inventory endpoint - remember, we are investigating the stores stock, rather than interacting with a specific cat\n",
    "\n",
    "specific_store_inventory_endpoint = specific_store_endpoint + \"/inventory\"\n",
    "\n",
    "## Lets assume that we want to filter for cats, and the colour ginger. We will set these up as a dictionary.\n",
    "\n",
    "specific_store_cats_filters = {\n",
    "    \"type\": \"cat\",\n",
    "    \"colour\": \"ginger\"\n",
    "}\n",
    "\n",
    "## We can then append these to the endpoint. We will use a small for loop to do this\n",
    "\n",
    "specific_store_inventory_endpoint += \"?\"                                 ## Start by adding a question mark to the end of the endpoint\n",
    "\n",
    "for key, value in specific_store_cats_filters.items():                   ## Run through every item in the dictionary, and for each extract the key and value\n",
    "    specific_store_inventory_endpoint += key + \"=\" + value               ## Append the key and value to the endpoint. For +, if multiple strings are passed, they are concatenated together\n",
    "    if key != list(specific_store_cats_filters.keys())[-1]:              ## If the key is not the last key in the dictionary, add an ampersand to the end of the endpoint\n",
    "        specific_store_inventory_endpoint += \"&\"\n",
    "\n",
    "## We can then print the endpoint to see what it looks like\n",
    "\n",
    "print(specific_store_inventory_endpoint)"
   ]
  },
  {
   "cell_type": "markdown",
   "metadata": {},
   "source": [
    "##### 0.2.5 - Reqest methods\n",
    "\n",
    "Ther are a few different “methods” that can be used to interact with an API. In this case, the word method is being used to describe the type of request – describing what you would like to do with the database in the backend, rather than how you are sending the request. Using a different method with the same url and query parameters will return different results. For example, using a GET request will return the information about the pet, whereas a DELETE request will remove the pet from the database. Note that methods are typically displayed in allcaps.\n",
    "\n",
    "Commonly used methods are: \n",
    "-\tGET – I would like the information you have on this thing\n",
    "\n",
    "e.g. To get all the information about the pet with ID 1, you would use the following request:\n",
    "\n",
    "```\n",
    "method: GET\n",
    "url: https://petstore.com/pets/1\n",
    "```\n"
   ]
  },
  {
   "cell_type": "markdown",
   "metadata": {},
   "source": [
    "-   POST – I would like to add new information about this thing \n",
    "\n",
    "e.g. To add a new pet to the store, with the ID 1. As this is a new pet, the store would not have any information; this would have to be provided as part of the request. \n",
    "```\n",
    "method: POST\n",
    "url: https://petstore.com/pets/1\n",
    "```"
   ]
  },
  {
   "cell_type": "markdown",
   "metadata": {},
   "source": [
    "-   PUT – I would like to update the information about this thing. \n",
    "\n",
    "e.g. To update the information about the pet with ID 1. Similar to POST, the body of the request would include the new information.\n",
    "\n",
    "```\n",
    "method: PUT\n",
    "url: https://petstore.com/pets/1\n",
    "```"
   ]
  },
  {
   "cell_type": "markdown",
   "metadata": {},
   "source": [
    "-   DELETE – I would like to remove this information.\n",
    "\n",
    "e.g. To remove the information about the pet with ID 1.\n",
    "```\n",
    "method: DELETE\n",
    "url: https://petstore.com/pets/1\n",
    "```"
   ]
  },
  {
   "cell_type": "markdown",
   "metadata": {},
   "source": [
    "## 0.2 - Requests\n",
    "\n",
    "Now that we have an understanding of the different building blocks of an API, we can start to build a request. There is a Python library for this: [requests](https://requests.readthedocs.io/en/latest/). This is a widely used, useful, and well documented library, designed to make constructing HTTP requests easy.To test it out, and practice what we've learned above, we are going to use the helpful [jsonplaceholder api](https://jsonplaceholder.typicode.com/users). This API has a few different endpoints, is designed for testing and learning, and has been provided free to use. The responses are not real data, but they are predicatable and consistent, and the API behaves as a real API would.\n",
    "\n",
    "We are going to start by installing and importing the requests library. Throughout these notebooks we are going to install libraries every time using pip. It is likley that you will have some of these libraries already installed; installing them again will ensure that you have the latest version, and if you skip a notebook you won't have skipped installing a library. In real Python code, you typically only import libraries. "
   ]
  },
  {
   "cell_type": "code",
   "execution_count": null,
   "metadata": {},
   "outputs": [],
   "source": [
    "%pip install requests\n",
    "import requests"
   ]
  },
  {
   "cell_type": "markdown",
   "metadata": {},
   "source": [
    "#### 0.2.1 - A simple request\n",
    "\n",
    "We are going to start with a basic request, using the GET method on the `/users` endpoing at jsonplacehoder. In response, we should recieve a list of users. "
   ]
  },
  {
   "cell_type": "code",
   "execution_count": null,
   "metadata": {},
   "outputs": [],
   "source": [
    "url = \"https://jsonplaceholder.typicode.com/users\"      # We will use the jsonplaceholder API for this example\n",
    "\n",
    "response = requests.request(\"GET\", url)                 # This is the basic request format - we specify the method (\"GET\"), and the target url\n",
    "\n",
    "print(response.text)                                    # We can then do something with the response - in this case, we are printing it to see it. "
   ]
  },
  {
   "cell_type": "markdown",
   "metadata": {},
   "source": [
    "Wait, where did that come from?\n",
    "\n",
    "Remember, a GET request is basically the same as going to a web page. The main difference is we are doing it over Python, rather than in a browser. One of the nice things about jsonplaceholder is we can use a browser to see this response. If you navigate to the URL from the code block, you will see the same data we got back in the response. Not all APIs let you do this, and this only works for GET requests, but it can be a useful way to check what you are getting back."
   ]
  },
  {
   "cell_type": "markdown",
   "metadata": {},
   "source": [
    "#### 0.2.2 - Sending data\n",
    "\n",
    "If we want to send some data with a POST request, the format is very similar. We need to specify the URL and method as before. This time, we also need to send some actual data!\n",
    "\n",
    "Helpfully, jsonplaceholder allows you to send post requests to the `/posts` endpoint. It will echo back the data with a new field, `id`, which is the ID of the post in their database. APIs will often echo back the data you send, with some additional information, to confirm that the request was successful. Note: jsonplaceholder does not actually store the data you send, so you're welcome to send as many requests as you want. "
   ]
  },
  {
   "cell_type": "code",
   "execution_count": null,
   "metadata": {},
   "outputs": [],
   "source": [
    "url = \"https://jsonplaceholder.typicode.com/posts\"      \n",
    "\n",
    "body = {                                                                 # A dictionary of data we want to send to the API\n",
    "    \"title\": \"foo\",\n",
    "    \"body\": \"bar\",\n",
    "    \"userId\": 1\n",
    "}\n",
    "\n",
    "headers = {\n",
    "    \"Content-type\": \"application/json; charset=UTF-8\"                    # This lets the API know what format we are sending the data in\n",
    "}\n",
    "\n",
    "response = requests.request(\"POST\", url, json=body, headers=headers)     # The request is constructed in the same way as before. This time we are doing a POST, so need to specify that, and pass the body and headers. \n",
    "\n",
    "print(response.text)"
   ]
  },
  {
   "cell_type": "markdown",
   "metadata": {},
   "source": [
    "If you would like to practice further, jsonplaceholder has [nice documentation with examples](https://jsonplaceholder.typicode.com/guide.html). Feel free to try out some of the other endpoints, or try sending different data. Once you are comfortable with the basics, we can move on to the next notebook."
   ]
  }
 ],
 "metadata": {
  "kernelspec": {
   "display_name": "Python 3",
   "language": "python",
   "name": "python3"
  },
  "language_info": {
   "codemirror_mode": {
    "name": "ipython",
    "version": 3
   },
   "file_extension": ".py",
   "mimetype": "text/x-python",
   "name": "python",
   "nbconvert_exporter": "python",
   "pygments_lexer": "ipython3",
   "version": "3.10.12"
  }
 },
 "nbformat": 4,
 "nbformat_minor": 2
}
