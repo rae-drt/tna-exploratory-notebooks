{
 "cells": [
  {
   "cell_type": "markdown",
   "metadata": {},
   "source": [
    "## What is an API\n",
    "\n",
    "It is best to start by expanding the acronym: an API is an Application Programming Interface. They are how customers (either you, or other programs) interact with a program. The API \"sits in front of\" the program itself, taking requests for things the program should do, and passing the instructions on to the program. \n",
    "APIs are extremely common, and many of them take human interaction. As an example, search engines all work with an API: you, as the human, provide the search term to the search app. The search app then converts this to an API query for its own database, adding in factors deemed relevant, such as prior search history or time of day.\n",
    "\n",
    "There are a few different metaphors that help understand APIs and how they work. Here, we are going to use the Pet Store metaphor. One advantage to this metaphor is that the roles are straightforward to understand: the human user is the person walking into the store; the API itself is equivalent to everything you can do within the store; and the backend/database is everything “in the back” of the store. \n",
    "\n",
    "Over the next few steps, we are going to build an API request, with a look at each building block required."
   ]
  },
  {
   "cell_type": "markdown",
   "metadata": {},
   "source": [
    "\n",
    "#### Base path\n",
    "\n",
    "The base path is the address - its where the API \"is\". In the pet store metaphor, this is equivalent to the physical address – you need to find the store itself before you can do anything with it. What this base path looks like will depend on where the API is located. For web-hosted API's the base path will look like a URL; if it is stored locally, it may be a file path; and if it is a database, it may be a database name. \n",
    "\n",
    "Discovery's API is web-hosted, so we will focus on URLs. "
   ]
  },
  {
   "cell_type": "code",
   "execution_count": null,
   "metadata": {},
   "outputs": [],
   "source": [
    "## The first building block we need is the base URL for the API we want to use. \n",
    "## For the pet shop metaphor, we'll use an example one, and set it to a variable - this way, we can use it later on in the notebook\n",
    "\n",
    "pet_shop_base_url = \"https://www.examplepetstore.com\"\n",
    "\n",
    "## we will setup the required data for the Discovery API later on in the notebook"
   ]
  },
  {
   "cell_type": "markdown",
   "metadata": {},
   "source": [
    "#### Endpoints\n",
    "\n",
    "The next building block is to specify which bit of the API you want to interact with - specified by endpoints. Once you've reached the petstore (API), you need to decide whether you want to interact with a specific pet, the inventory, or the employees. In simpler APIs there might just be one or two endpoints, in more complex APIs there will be several. \n",
    "\n",
    "Different APIs will be designed to work in different ways: if the store has a very mixed stock, it may make more sense to only have a single generic endpoint for individual pets; if the store specialises in cats, it may be appropriate to have an endpoint dedicated to cats. Often, these design choices will be made with the user, the query parameters, and the data in mind. For example, having the cats split off will allow for a more useful and relevant set of query paramaters to be specified, compared to a generic endpoint requiring filters applicable to all pets."
   ]
  },
  {
   "cell_type": "code",
   "execution_count": null,
   "metadata": {},
   "outputs": [],
   "source": [
    "## For the pet shop, we might want to interact with an individual pet\n",
    "\n",
    "pet_endpoint = \"/pet\"\n",
    "\n",
    "## If we stick the base url and this endpoint together, we get the full url for the pet endpoint - https://www.examplepetstore.com/pet\n",
    "\n",
    "## We might also want to interact with a few other endpoints:\n",
    "### the pet store's inventory of pets\n",
    "\n",
    "inventory_endpoint = \"/inventory\"\n",
    "\n",
    "### the pet store's employees\n",
    "\n",
    "employees_endpoint = \"/employees\"\n",
    "\n",
    "### the pet store's customers\n",
    "\n",
    "customers_endpoint = \"/customers\""
   ]
  },
  {
   "cell_type": "markdown",
   "metadata": {},
   "source": [
    "#### Variables within the URL\n",
    "\n",
    "When constructing a URL, you can add a variable in it. This can help if, for example, the pet store has multiple branches, and you want information from a specific one. This means you can provide a single API, but have a much broader range of information available. In documentation, this is often shown as a curly bracketed variable, such as `{branch}`."
   ]
  },
  {
   "cell_type": "code",
   "execution_count": null,
   "metadata": {},
   "outputs": [],
   "source": [
    "## Lets assume we want information about the store in Leicester\n",
    "\n",
    "specific_store = \"leicester\"                # feel free to change this to another store, and see what happens\n",
    "\n",
    "## If the documentation shows that the endpoint /store/{store_name} is available, we can use the .format() method to insert the specific store name into the endpoint\n",
    "## This will input the specific store name neatly into the endpoint. \n",
    "\n",
    "specific_store_endpoint = \"/store/{}\".format(specific_store)\n",
    "\n",
    "## To see what this looks like, we can print the endpoint\n",
    "\n",
    "print(specific_store_endpoint)"
   ]
  },
  {
   "cell_type": "markdown",
   "metadata": {},
   "source": [
    "#### Query parameters\n",
    "\n",
    "Query parameters are used to specify precisely what information you want to interact with. Often, they are useful if you do not yet know/do not want to interact with a specific ID; instead wanting to search or interact across the records avaialble via the API. If, for example, you wanted to find all ginger cats, you would likely use a query parameter to specify this. \n",
    "\n",
    "There are a few formatting detials worth highlighting for query paramaters. As they are filters for a specific query, they are always added to the end of the URL, after a question mark. They are always in the format key=value, where the key is the specific filter you want to use, and the value is what you want to filter by. If you want to use multiple query parameters, you can use an ampersand (&) to separate them."
   ]
  },
  {
   "cell_type": "code",
   "execution_count": null,
   "metadata": {},
   "outputs": [],
   "source": [
    "## Continuing with the Leicester store example, we might want to get information about the store's cats\n",
    "\n",
    "## We start by specifying that we want to interact with the inventory endpoint - remember, we are searching for potentially several cats, rather than interacting with a specific cat\n",
    "\n",
    "specific_store_inventory_endpoint = \"/store/{}/inventory\".format(specific_store)\n",
    "\n",
    "## Lets assume that we want to filter for cats, and the colour ginger. We will set these up as a dictionary.\n",
    "specific_store_cats_filters = {\n",
    "    \"type\": \"cat\",\n",
    "    \"colour\": \"ginger\"\n",
    "}\n",
    "\n",
    "## We can then append these to the endpoint. We will use a small for loop to do this\n",
    "\n",
    "specific_store_inventory_endpoint += \"?\"                                 ## Start by adding a question mark to the end of the endpoint\n",
    "\n",
    "for key, value in specific_store_cats_filters.items():                   ## Run through every item in the dictionary, and for each extract the key and value\n",
    "    specific_store_inventory_endpoint += \"{}={}\".format(key, value)      ## Append the key and value to the endpoint. For .format(), if multiple values are passed, they are inserted in the order they appear\n",
    "    if key != list(specific_store_cats_filters.keys())[-1]:              ## If the key is not the last key in the dictionary, add an ampersand to the end of the endpoint\n",
    "        specific_store_inventory_endpoint += \"&\"\n",
    "\n",
    "## We can then print the endpoint to see what it looks like\n",
    "\n",
    "print(specific_store_inventory_endpoint)"
   ]
  },
  {
   "cell_type": "markdown",
   "metadata": {},
   "source": []
  },
  {
   "cell_type": "markdown",
   "metadata": {},
   "source": [
    "##### Reqest methods\n",
    "\n",
    "Ther are a few different “methods” that can be used to interact with an API. In this case, the word method is being used to describe the type of request – describing what you would like to do with the database in the backend, rather than how you are sending the request. \n",
    "\n",
    "Using a different method with the same url and query parameters will return different results. For example, using a GET request will return the information about the pet, whereas a DELETE request will remove the pet from the database.\n",
    "\n",
    "Commonly used methods are (note that they are typically displayed in allcaps): \n",
    "-\tGET – I would like the information you have on this thing (e.g. I would like information about this specific pet)\n",
    "\n",
    "e.g. To get all the information about the pet with ID 1, you would use the following request:\n",
    "\n",
    "```\n",
    "method: GET\n",
    "url: https://petstore.com/pets/1\n",
    "```\n"
   ]
  },
  {
   "cell_type": "markdown",
   "metadata": {},
   "source": [
    "-   POST – I would like to add new information about this thing (e.g. I would like to add a new pet to the store, or add an image to a specific pet). \n",
    "\n",
    "e.g. To add a new pet to the store, with the ID 1. As this is a new pet, the store would not have any information, and the customer would have to provide it as part of the request payload. \n",
    "```\n",
    "method: POST\n",
    "url: https://petstore.com/pets/1\n",
    "```"
   ]
  },
  {
   "cell_type": "markdown",
   "metadata": {},
   "source": [
    "-   PUT – I would like to update the information about this thing (e.g. This pet has had a birthday and I would like to update its age). \n",
    "\n",
    "e.g. To update the information about the pet with ID 1. In this case, the body of the request would include the new information.\n",
    "\n",
    "```\n",
    "method: PUT\n",
    "url: https://petstore.com/pets/1\n",
    "```"
   ]
  },
  {
   "cell_type": "markdown",
   "metadata": {},
   "source": [
    "-   DELETE – I would like to remove this information (e.g. A pet has been bought and its records need to be removed from the store).\n",
    "\n",
    "e.g. To remove the information about the pet with ID 1.\n",
    "```\n",
    "method: DELETE\n",
    "url: https://petstore.com/pets/1\n",
    "```"
   ]
  },
  {
   "cell_type": "markdown",
   "metadata": {},
   "source": [
    "#### Headers\n",
    "\n",
    "Headers are used to provide additional information about the request. They can include details about the format of data requested, authentication details, or other information depending on the API.\n",
    "\n",
    "Often during these notebooks you will see a section of code that looks like this:\n",
    "\n",
    "```\n",
    "headers = {\n",
    "                'Accept': 'application/json'      \n",
    "            }\n",
    "```\n",
    "\n",
    "This is setting the headers for the request, in this case we are indicating that we would like the response to be in JSON format. The documentation for the API will specify what headers are available, and which are required vs optional for each request. "
   ]
  },
  {
   "cell_type": "markdown",
   "metadata": {},
   "source": [
    "#### Response codes\n",
    "\n",
    "Response codes are the different responses that you can get from the API, and are worth noting. In the pet store, this would be the different responses you can get from the store - the pet you wanted is in stock, the pet you wanted is not in stock, the pet you wanted is in stock but is reserved, etc. Typically, there are a few different response codes that you will see:\n",
    "\n",
    "- 200 - OK - the request was successful\n",
    "- 400 - Bad Request - the request was not successful\n",
    "- 401 - Unauthorized - the request was not successful because you are not authorized to make that request\n",
    "- 403 - Forbidden - the request was not successful because you are not allowed to make that request\n",
    "- 404 - Not Found - the request was not successful because the thing you are looking for does not exist\n",
    "- 500 - Internal Server Error - the request was not successful because there was an error on the server\n",
    "\n",
    "#### Response\n",
    "\n",
    "The response is the data that you actually get back from the API. It can come in a few different formats, but the most common are JSON and XML. \n",
    "\n"
   ]
  },
  {
   "cell_type": "markdown",
   "metadata": {},
   "source": [
    "## Requests\n",
    "\n",
    "Now that we have an understanding of the different building blocks of an API, we can start to build a request. There is a Python library for this: [requests](https://requests.readthedocs.io/en/latest/). This is a widely used, useful, and well documented library. \n",
    "\n",
    "To test out the requests library, we are going to use a helpful [example api](https://jsonplaceholder.typicode.com/users). This website has a few different endpoints, and is designed for testing and learning; the responses are not real data, but responses are predicatable and consistent, and the API behaves as a real API would.\n",
    "\n",
    "We are going to start by installing and importing the requests library. Throughout these notebooks we are going to install libraries every time using pip. It is likley that you will have some of these libraries already installed; installing them again will ensure that you have the latest version, and if you skip a notebook you won't have skipped installing a library. In typical python code, you typically only import libraries. "
   ]
  },
  {
   "cell_type": "code",
   "execution_count": null,
   "metadata": {},
   "outputs": [],
   "source": [
    "%pip install requests\n",
    "import requests"
   ]
  },
  {
   "cell_type": "markdown",
   "metadata": {},
   "source": [
    "Next, we are going to build a basic request. We are going to use the GET method, and the endpoint `/users`. This will return a json response with information about all the users."
   ]
  },
  {
   "cell_type": "code",
   "execution_count": null,
   "metadata": {},
   "outputs": [],
   "source": [
    "url = \"https://jsonplaceholder.typicode.com/users\"\n",
    "\n",
    "response = requests.request(\"GET\", url)\n",
    "\n",
    "print(response.text)"
   ]
  }
 ],
 "metadata": {
  "kernelspec": {
   "display_name": "Python 3",
   "language": "python",
   "name": "python3"
  },
  "language_info": {
   "codemirror_mode": {
    "name": "ipython",
    "version": 3
   },
   "file_extension": ".py",
   "mimetype": "text/x-python",
   "name": "python",
   "nbconvert_exporter": "python",
   "pygments_lexer": "ipython3",
   "version": "3.10.12"
  }
 },
 "nbformat": 4,
 "nbformat_minor": 2
}
