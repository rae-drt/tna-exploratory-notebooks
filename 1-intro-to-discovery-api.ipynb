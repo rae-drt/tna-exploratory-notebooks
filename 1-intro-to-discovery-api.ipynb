{
 "cells": [
  {
   "cell_type": "markdown",
   "metadata": {},
   "source": [
    "## What is Discovery\n",
    "\n",
    "[Discovery](https://discovery.nationalarchives.gov.uk/) is the catalogue for [The National Archives](https://www.nationalarchives.gov.uk/). It contains descriptions of over 32 million records held by The National Archives and more than 2,500 archives across the country. Over 9 million records are available for download. \n",
    "\n",
    "Powering Discovery is a database; it is this database that stores the information about each record and is queried every time (either by the web user interface, or the API). It is the sheer number of records in Discovery that make using the API a valuable option. Rather than having to use the web interface separately for each unique query, following the rest of this notebook you will be able to automate its use - allowing you to filter more efficiently and retrieve large amounts of data more effectively. "
   ]
  },
  {
   "cell_type": "markdown",
   "metadata": {},
   "source": [
    "## Gathering information\n",
    "As we saw above, the key thing you need when working with an API is the documentation. This provides information on what requests you can build: what endpoints are available, what query parameters you can use, what methods they accept, and so on. This information is often provided either directly alongside, or is similarly accessible as, the API. \n",
    "\n",
    "To start finding information on Discovery, searching the internet for \n",
    " \"Discovery API documentation\" will bring up the [main help page](https://www.nationalarchives.gov.uk/help/discovery-for-developers-about-the-application-programming-interface-api/). Some information is available here - particularly the terms of use and information on catalogue levels. From this page, you can find the [API sandbox](https://discovery.nationalarchives.gov.uk/API/sandbox/index). This page provides you with an interactive way to test out the API, and see what data you can retrieve. It also works as documentation. \n",
    "\n",
    "At this stage, try it out! Have a go with the sandbox and see what you can retrieve.\n",
    "\n",
    "Three key bits of information you can gather from the Sandbox are:\n",
    "- The query method\n",
    "- The base URL\n",
    "- The parameters, and which ones are required vs optional"
   ]
  },
  {
   "cell_type": "code",
   "execution_count": null,
   "metadata": {},
   "outputs": [],
   "source": [
    "base_discovery_url = \"https://discovery.nationalarchives.gov.uk/API\"\n",
    "\n",
    "search_endpoint = \"/search/records\""
   ]
  },
  {
   "cell_type": "markdown",
   "metadata": {},
   "source": [
    "### What can we find out\n",
    "The first thing we find wen looking into the sandbox is the number of different paths/endpoints available. This represents the variety of works typically undertaken with the Archives. You may be looking for the authority about a record, or you may be looking for details about a record with a specific identification. If we investigate these endpoints closer, we can see that they all require an identification number for the record(s) being investigated. \n",
    "\n",
    "For the purpose of this Notebook, we are going to stick to searching for records. So, we will stick to the very last endpoint in the list: `/search/records`. The documentation shows us that this endpoint will accept GET requests only, logical for a search API. \n",
    "\n",
    "When expanded, we can see that there are a lot of parameters we can see there are a considerable range of parameters available to use. This is an effect of two things: \n",
    "- The range of data available on Discovery\n",
    "- The details available about each record.  \n",
    "\n",
    "Helpfully for the user, only one of these parameters is required: the search term. \n",
    "\n",
    "We will start by building a list of all the optional parameters, and marking each one with a true/false value depending on whether we intend to use it. For simplicity, we are marking them all as false for this first example. Note that search query is not on this list - it is required, and so will be added to the request regardless.\n"
   ]
  },
  {
   "cell_type": "code",
   "execution_count": null,
   "metadata": {},
   "outputs": [],
   "source": [
    "## We will set up the list as a set of dictionaries, with each having a name and a true/false value\n",
    "## for whether we are going to use it.\n",
    "## Note: we are not going to include all the parameters, as there are a lot available, and with 3 different\n",
    "## bits of information for each, it would take up a lot of space. We will include a few, and you can\n",
    "## add more if you want to.\n",
    "\n",
    "search_parameters = [\n",
    "    {\n",
    "        name = \"record series\",\n",
    "        discovery_name = \"sps.recordSeries\",\n",
    "        use = False\n",
    "    },\n",
    "    {\n",
    "        name = \"date from\",\n",
    "        discovery_name = \"sps.dateFrom\",\n",
    "        use = False\n",
    "    },\n",
    "    {\n",
    "        name = \"date to\",\n",
    "        discovery_name = \"sps.dateTo\",\n",
    "        use = False\n",
    "    },\n",
    "    {\n",
    "        name = \"time periods\",\n",
    "        discovery_name = \"sps.timePeriods\",\n",
    "        use = False\n",
    "    },\n",
    "    {\n",
    "        name = \"record repositories\",\n",
    "        discovery_name = \"sps.recordRepositories\",\n",
    "        use = False\n",
    "    },\n",
    "    {\n",
    "        name = \"departments\",\n",
    "        discovery_name = \"sps.departments\",\n",
    "        use = False\n",
    "    },\n",
    "    {\n",
    "        name = \"taxonomy subjects\",\n",
    "        discovery_name = \"sps.taxonomySubjects\",\n",
    "        use = False\n",
    "    },\n",
    "    {\n",
    "        name = \"catalougue levels\",\n",
    "        discovery_name = \"sps.catalogueLevels\",\n",
    "        use = False\n",
    "    },\n",
    "    {\n",
    "        name = \"closure statuses\",\n",
    "        discovery_name = \"sps.closureStatuses\",\n",
    "        use = False\n",
    "    }\n",
    "    {\n",
    "        name = \"held by code\",\n",
    "        discovery_name = \"sps.heldByCode\",\n",
    "        use = False\n",
    "    },\n",
    "    {\n",
    "        name = \"document type\",\n",
    "        discovery_name = \"sps.documentType\",\n",
    "        use = False\n",
    "    }\n",
    "]"
   ]
  }
 ],
 "metadata": {
  "kernelspec": {
   "display_name": "Python 3",
   "language": "python",
   "name": "python3"
  },
  "language_info": {
   "codemirror_mode": {
    "name": "ipython",
    "version": 3
   },
   "file_extension": ".py",
   "mimetype": "text/x-python",
   "name": "python",
   "nbconvert_exporter": "python",
   "pygments_lexer": "ipython3",
   "version": "3.10.12"
  },
  "orig_nbformat": 4
 },
 "nbformat": 4,
 "nbformat_minor": 2
}
