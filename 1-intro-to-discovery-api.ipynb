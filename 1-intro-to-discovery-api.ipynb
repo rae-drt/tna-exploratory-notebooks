{
 "cells": [
  {
   "cell_type": "markdown",
   "metadata": {},
   "source": [
    "## What is Discovery\n",
    "\n",
    "[Discovery](https://discovery.nationalarchives.gov.uk/) is the catalogue for [The National Archives](https://www.nationalarchives.gov.uk/). It contains descriptions of over 32 million records held by The National Archives and more than 2,500 archives across the country. Over 9 million records are available for download. \n",
    "\n",
    "Powering Discovery is a database; it is this database that stores the information about each record and is queried every time (either by the web user interface, or the API). It is the sheer number of records in Discovery that make using the API a valuable option. Rather than having to use the web interface separately for each unique query, following the rest of this notebook you will be able to automate its use - allowing you to filter more efficiently and retrieve large amounts of data more effectively. "
   ]
  },
  {
   "cell_type": "markdown",
   "metadata": {},
   "source": [
    "## Gathering information\n",
    "As we saw above, the key thing you need when working with an API is the documentation. This provides information on what requests you can build: what endpoints are available, what query parameters you can use, what methods they accept, and so on. This information is often provided either directly alongside, or is similarly accessible as, the API. \n",
    "\n",
    "To start finding information on Discovery, searching the internet for \n",
    " \"Discovery API documentation\" will bring up the [main help page](https://www.nationalarchives.gov.uk/help/discovery-for-developers-about-the-application-programming-interface-api/). Some information is available here - particularly the terms of use and information on catalogue levels. From this page, you can find the [API sandbox](https://discovery.nationalarchives.gov.uk/API/sandbox/index). This page provides you with an interactive way to test out the API, and see what data you can retrieve. It also works as documentation. \n",
    "\n",
    "At this stage, try it out! Have a go with the sandbox and see what you can retrieve.\n",
    "\n",
    "Three key bits of information you can gather from the Sandbox are:\n",
    "- The query method\n",
    "- The base URL\n",
    "- The parameters, and which ones are required vs optional"
   ]
  },
  {
   "cell_type": "code",
   "execution_count": null,
   "metadata": {},
   "outputs": [],
   "source": [
    "base_discovery_url = \"https://discovery.nationalarchives.gov.uk/API\"\n",
    "\n",
    "search_endpoint = \"/search/records\""
   ]
  },
  {
   "cell_type": "markdown",
   "metadata": {},
   "source": [
    "### What can we find out\n",
    "The first thing we find wen looking into the sandbox is the number of different paths/endpoints available. This represents the variety of works typically undertaken with the Archives. You may be looking for the authority about a record, or you may be looking for details about a record with a specific identification. If we investigate these endpoints closer, we can see that they all require an identification number for the record(s) being investigated. \n",
    "\n",
    "For the purpose of this Notebook, we are going to stick to searching for records. So, we will stick to the very last endpoint in the list: `/search/records`. The documentation shows us that this endpoint will accept GET requests only, logical for a search API. \n",
    "\n",
    "When expanded, we can see that there are a lot of parameters we can see there are a considerable range of parameters available to use. This is an effect of two things: \n",
    "- The range of data available on Discovery\n",
    "- The details available about each record.  \n",
    "\n",
    "Helpfully for the user, only one of these parameters is required: the search term. \n",
    "\n",
    "We will start by building a list of all the optional parameters, and marking each one with a true/false value depending on whether we intend to use it. For simplicity, we are marking them all as false for this first example. Note that search query is not on this list - it is required, and so will be added to the request regardless.\n"
   ]
  },
  {
   "cell_type": "code",
   "execution_count": null,
   "metadata": {},
   "outputs": [],
   "source": [
    "## We will set up the list as a set of dictionaries, with each having a name and a true/false value\n",
    "## for whether we are going to use it.\n",
    "## Note: we are not going to include all the parameters, as there are a lot available, and with 3 different\n",
    "## bits of information for each, it would take up a lot of space. We will include a few, and you can\n",
    "## add more if you want to.\n",
    "\n",
    "search_parameters = [\n",
    "    {\n",
    "        name = \"record series\",\n",
    "        discovery_name = \"sps.recordSeries\",\n",
    "        use = False\n",
    "    },\n",
    "    {\n",
    "        name = \"date from\",\n",
    "        discovery_name = \"sps.dateFrom\",\n",
    "        use = False\n",
    "    },\n",
    "    {\n",
    "        name = \"date to\",\n",
    "        discovery_name = \"sps.dateTo\",\n",
    "        use = False\n",
    "    },\n",
    "    {\n",
    "        name = \"time periods\",\n",
    "        discovery_name = \"sps.timePeriods\",\n",
    "        use = False\n",
    "    },\n",
    "    {\n",
    "        name = \"record repositories\",\n",
    "        discovery_name = \"sps.recordRepositories\",\n",
    "        use = False\n",
    "    },\n",
    "    {\n",
    "        name = \"departments\",\n",
    "        discovery_name = \"sps.departments\",\n",
    "        use = False\n",
    "    },\n",
    "    {\n",
    "        name = \"taxonomy subjects\",\n",
    "        discovery_name = \"sps.taxonomySubjects\",\n",
    "        use = False\n",
    "    },\n",
    "    {\n",
    "        name = \"catalougue levels\",\n",
    "        discovery_name = \"sps.catalogueLevels\",\n",
    "        use = False\n",
    "    },\n",
    "    {\n",
    "        name = \"closure statuses\",\n",
    "        discovery_name = \"sps.closureStatuses\",\n",
    "        use = False\n",
    "    }\n",
    "    {\n",
    "        name = \"held by code\",\n",
    "        discovery_name = \"sps.heldByCode\",\n",
    "        use = False\n",
    "    },\n",
    "    {\n",
    "        name = \"document type\",\n",
    "        discovery_name = \"sps.documentType\",\n",
    "        use = False\n",
    "    }\n",
    "]"
   ]
  },
  {
   "cell_type": "markdown",
   "metadata": {},
   "source": [
    "## Building a query\n",
    "The tool we are going to use to build requests is called [Requests](https://requests.readthedocs.io/en/master/). This is a Python library that allows you to send HTTP requests - and is equivalent to talking to the waiter in the restaurant. This is a widely used library - we will go over details here, but there is plenty of documentation available online. The first thing we need to do is import the library. Note: we are going to assume you do not have the library installed, and so will install it here. In real code, you do not need to include the installation step."
   ]
  },
  {
   "cell_type": "code",
   "execution_count": null,
   "metadata": {},
   "outputs": [],
   "source": [
    "%pip install requests\n",
    "import requests"
   ]
  },
  {
   "cell_type": "markdown",
   "metadata": {},
   "source": [
    "### Simplified starter look at requests\n",
    "\n",
    "A request requires a URL, method, and parameters. \n",
    "The URL is the base URL, plus the endpoint. \n",
    "The method is the type of request - in this case, we are going to use GET. \n",
    "The parameters are the parameters we want to use.\n",
    "\n",
    "The reqest library takes these three things and combines them into a request. It then sends this request to the API, and returns the response."
   ]
  },
  {
   "cell_type": "markdown",
   "metadata": {},
   "source": [
    "## Running a query\n",
    "Now the various bits of the query have been defined, we can put them together and run the query. When using the reqesuts library, this is very straightforwards, and can be done in a single line of code. \n",
    "This line of code gathers together the base URL, the endpoint, and the parameters, and sends them to the API. The API then sends back a response, which is stored in the variable called \"response\". Here, the response is printed out - this lets us see what the response looks like. In reality, printing is a good option while testing, and may be useful for real use. There are, however, other things you may want to do. We will look at one of these later on."
   ]
  },
  {
   "cell_type": "markdown",
   "metadata": {},
   "source": [
    "## Making the results more readable\n",
    "\n",
    "Looking at the \"default\" response we recieved from Discovery, we can see that there is a lot of data for each record - it will probably be useful to reduce this down. As the data returned from discovery is a JSON file, we can use the JSON library to make this easier.\n",
    "Demonstrated here is a way to filter the response down to just the Context, Reference Number, and Held-by data. \n",
    "To start, a new dictionary is created. This will be used to store the data we want to keep.\n",
    "We then loop through the response, and for each record we select the data we want to keep. This is then added to the new dictionary.\n",
    "Finally, we print out the new dictionary. This is much easier to read than the default response."
   ]
  },
  {
   "cell_type": "markdown",
   "metadata": {},
   "source": [
    "## Now what?\n",
    "- Getting digitised resources\n",
    "- How to deal with non-digitised resources\n",
    "- Options in the subsequent notebooks. \n",
    "\n",
    "One of the limitations of the Discovery API is that it can only recover data in the catalogue itself - this is the metadata about the record, and not the record itself. There are diff\n",
    "\n",
    "##### Digitised records\n",
    "\n",
    "Some records in Discovery have been digitised. This information is not yet avaiable in the Discovery API, but we can use the {number} parameter to check if it is avaiable. \n",
    "\n",
    "##### Non-digitised records\n",
    "\n",
    "For non digitised records, the only approach is to go to The National Archives and look at the record in person. Instructions for how to do this can be found [here](https://www.nationalarchives.gov.uk/help-with-your-research/visit-us/) - note in particular that some records need to be ordered in advance to ensure they are avaiable when you visit. \n",
    "\n",
    "##### Options in the subsequent notebooks\n",
    "\n",
    "Now that we have searched Discovery for some data and retreived it - the next notebooks start to do things with them. There are two paths that can be followed - Named Entity Recognition, and Mapping and Visualisation. \n",
    "\n",
    "##### Named Entity Recognition (NER)\n",
    "\n",
    "##### Mapping and Visualisation\n",
    "\n",
    "Here, the notebooks take you through the process of visualising data retrived from ships logs. The general aim of this series of notebooks is to take the data we can gather from the Discovery API, and show how we can work with it, to provide additional visual context and information.\n",
    "\n"
   ]
  }
 ],
 "metadata": {
  "kernelspec": {
   "display_name": "Python 3",
   "language": "python",
   "name": "python3"
  },
  "language_info": {
   "codemirror_mode": {
    "name": "ipython",
    "version": 3
   },
   "file_extension": ".py",
   "mimetype": "text/x-python",
   "name": "python",
   "nbconvert_exporter": "python",
   "pygments_lexer": "ipython3",
   "version": "3.10.12"
  },
  "orig_nbformat": 4
 },
 "nbformat": 4,
 "nbformat_minor": 2
}
