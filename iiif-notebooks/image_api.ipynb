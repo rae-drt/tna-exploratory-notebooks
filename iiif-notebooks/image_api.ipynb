{
 "cells": [
  {
   "cell_type": "markdown",
   "metadata": {},
   "source": [
    "# Image API"
   ]
  },
  {
   "cell_type": "markdown",
   "metadata": {},
   "source": [
    "The IIIF Image api defines standards for both requests for images and image data structures. This notebook will demonstrate both, using two examples: \n",
    "- The same [example document from Discovery](https://discovery.nationalarchives.gov.uk/details/r/C9060661)\n",
    "- An live example from the Bodleian library [IIIF image server](https://iiif.bodleian.ox.ac.uk/iiif/image/1363b336-260d-4f22-a6cf-4e1320dbb689/full/256,/0/default.jpg). \n",
    "\n",
    "For the National Archives example, we will be building up the IIIF request from scratch to show how it might work - note that, at time of writing, TNA does not support IIIF, and the URIs built here will not work. The Bodleian example will show how a working example. \n",
    "\n",
    "The full documentation for the IIIF Image API can be found [here](https://iiif.io/api/image/3.0/)."
   ]
  },
  {
   "cell_type": "code",
   "execution_count": null,
   "metadata": {},
   "outputs": [],
   "source": [
    "%pip install -q requests\n",
    "%pip install -q IPython\n",
    "%pip install -q json\n",
    "\n",
    "import requests\n",
    "from IPython.display import Image\n",
    "import json"
   ]
  },
  {
   "cell_type": "markdown",
   "metadata": {},
   "source": [
    "## Image requests\n",
    "\n",
    "Requests for images come in the form of URIs, and can be independent requests (as in, a user puts the URL into a browser), but are more often used in the context of a IIIF viewer, or as part of a IIIF manifest. The URI contains all the information needed to request the image, with the standard defining what information is needed and how it should be formatted. This information is presented in 5 parts, appended onto a base url. The base URI should not actually request the image, instead it should point towards the resource - the additional information then tells the server exactly what view of the image is requested. For this example, we will be building the TNA example up, and adjusting the Bodleian example at each stage to show how the URI changes."
   ]
  },
  {
   "cell_type": "code",
   "execution_count": null,
   "metadata": {},
   "outputs": [],
   "source": [
    "TNA_base_url = \"https://discovery.nationalarchives.gov.uk/details/r/C9060661/\"\n",
    "\n",
    "oxford_example_url = \"https://iiif.bodleian.ox.ac.uk/iiif/image/1363b336-260d-4f22-a6cf-4e1320dbb689/full/256,/0/default.jpg\"\n",
    "\n",
    "Image(url=oxford_example_url)"
   ]
  },
  {
   "cell_type": "markdown",
   "metadata": {},
   "source": [
    "### 1 - Region\n",
    "\n",
    "The area of the base image being requested. The possible values are:\n",
    "- `full` - the entire image\n",
    "- `square` - using the shortest edge of the parent image to define a square region of the parent image - typically at the centre of the long edge.\n",
    "- `x,y,w,h` - where x and y are the coordinates of the top left corner of the region, and w and h are the width and height of the requested region in pixels. Can be prefixed with `pct:` to use percentages instead of pixels."
   ]
  },
  {
   "cell_type": "code",
   "execution_count": null,
   "metadata": {},
   "outputs": [],
   "source": [
    "TNA_base_url += \"square/\"\n",
    "\n",
    "oxford_square_url = \"https://iiif.bodleian.ox.ac.uk/iiif/image/1363b336-260d-4f22-a6cf-4e1320dbb689/square/256,/0/default.jpg\"\n",
    "\n",
    "Image(url=oxford_square_url)"
   ]
  },
  {
   "cell_type": "markdown",
   "metadata": {},
   "source": [
    "### 2 - Size \n",
    "\n",
    "The next part of the URI provides information on the size the image will be scaled to. There are a few possible values, with the most common being:\n",
    "\n",
    "- `max`  - The image will be shown at the maximum size without exceeding the dimensions of the parent image. \n",
    "- `w,` - Defines the width of the image in pixels, with the height being calculated to maintain the aspect ratio of the parent image. Does not exceed the dimensions of the parent image.\n",
    "- `,h` - As per width, but for height.\n",
    "- `w,h` - Defining both the width and height will override the aspect ratio of the parent image, potentially distorting the image.\n",
    "\n",
    "These can be prefixed with `^` to allow the viewer to scale the image larger than the parent. "
   ]
  },
  {
   "cell_type": "code",
   "execution_count": null,
   "metadata": {},
   "outputs": [],
   "source": [
    "TNA_base_url += \"200,/\"\n",
    "\n",
    "oxford_100by100_url = \"https://iiif.bodleian.ox.ac.uk/iiif/image/1363b336-260d-4f22-a6cf-4e1320dbb689/square/100,100/0/default.jpg\"\n",
    "\n",
    "Image(url=oxford_100by100_url)"
   ]
  },
  {
   "cell_type": "markdown",
   "metadata": {},
   "source": [
    "### Rotation\n",
    "\n",
    "The rotation of the image, in degrees. Adding a `!` before the rotation will mirror the image before rotating. Rotating by a value that is not a multiple of 90 will result in a rectangular image, padded with transparency if the format supports it (if the server can accommodate the request)."
   ]
  },
  {
   "cell_type": "code",
   "execution_count": null,
   "metadata": {},
   "outputs": [],
   "source": [
    "TNA_base_url += \"!270/\"\n",
    "\n",
    "oxford_rotated_url = \"https://iiif.bodleian.ox.ac.uk/iiif/image/1363b336-260d-4f22-a6cf-4e1320dbb689/square/100,100/270/default.jpg\"\n",
    "\n",
    "Image(url=oxford_rotated_url)"
   ]
  },
  {
   "cell_type": "markdown",
   "metadata": {},
   "source": [
    "### Quality\n",
    "\n",
    "Quality refers to the colour of the image. \n",
    "\n",
    "- `color` - Full colour image\n",
    "- `gray` - Greyscale image\n",
    "- `bitonal` - Black and white image\n",
    "- `default` - The server will provide the image in the format it is stored in. \n",
    "\n",
    "`Default` should always be supported by IIIF servers, and `color` (if supported) should return an image regardless of the colour depth of the original image."
   ]
  },
  {
   "cell_type": "code",
   "execution_count": null,
   "metadata": {},
   "outputs": [],
   "source": [
    "TNA_base_url += \"color\"\n",
    "\n",
    "oxford_bitonal_url = \"https://iiif.bodleian.ox.ac.uk/iiif/image/1363b336-260d-4f22-a6cf-4e1320dbb689/square/100,100/270/bitonal.jpg\"\n",
    "\n",
    "Image(url=oxford_bitonal_url)"
   ]
  },
  {
   "cell_type": "markdown",
   "metadata": {},
   "source": [
    "### Format\n",
    "\n",
    "Format is the final part of the URI, with common fileneame extensions being used; e.g. `jpg`, `png`, `gif`, `tif`, `webp`, `jp2`. The Bodleian example is also available in `webp` format."
   ]
  },
  {
   "cell_type": "code",
   "execution_count": null,
   "metadata": {},
   "outputs": [],
   "source": [
    "TNA_base_url += \".jpg\"\n",
    "\n",
    "print(TNA_base_url)\n",
    "\n",
    "oxford_webp_url = \"https://iiif.bodleian.ox.ac.uk/iiif/image/1363b336-260d-4f22-a6cf-4e1320dbb689/square/100,100/270/bitonal.webp\"\n",
    "\n",
    "Image(url=oxford_webp_url)"
   ]
  },
  {
   "cell_type": "markdown",
   "metadata": {},
   "source": [
    "### Additional details about requests\n",
    "\n",
    "Steps in the request are applied in order, and must be requested in the order shown here - so, for example, if you requested a square region, and a rotation, the square would be taken from the original image first, then the rotation would be applied to the square.\n",
    "\n",
    "At each stage of the request, it is possible that the URI may specify something the server cannot provide - for example, the request may be for a `.jpg` format image, despite it only being available in `.tif`, or the size requested maybe larger than the original. In these cases, the server generally will respond with a 400 code error. "
   ]
  },
  {
   "cell_type": "markdown",
   "metadata": {},
   "source": [
    "## Information requests\n",
    "\n",
    "The IIIF Image API specification also describes what information a server should provide when requested for information about an image. It is this information that allows the viewer (either a IIIF viewer, or the end user themselves) to form good requests for the image. The response is JSON, with fields specifying all the information needed to form a request, and additional details such as rights and metadata. Here, we are going to request the information for the image from Oxford, examine the response, and use it to build up a hypothetical document for the example from Discovery.\n",
    "\n",
    "The v3 header added here comes from the [IIIF api documentation from the Bodleian](https://digital.bodleian.ox.ac.uk/developer/iiif/#tag/Image) - as they offer both IIIF v2 and v3 services, you need to specify which you want to use. This notebook assumes and works with v3, as it is the most recent version of the standard."
   ]
  },
  {
   "cell_type": "code",
   "execution_count": null,
   "metadata": {},
   "outputs": [],
   "source": [
    "oxford_eg = \"https://iiif.bodleian.ox.ac.uk/iiif/image/1363b336-260d-4f22-a6cf-4e1320dbb689/info.json\"\n",
    "\n",
    "v3_header = \"application/ld+json;profile=http://iiif.io/api/image/3/context.json\"\n",
    "\n",
    "r = requests.get(oxford_eg, headers={\"Accept\": v3_header})\n",
    "\n",
    "print(json.dumps(r.json(), indent=2))"
   ]
  },
  {
   "cell_type": "markdown",
   "metadata": {},
   "source": [
    "This full response can be broken down into a few key parts. "
   ]
  },
  {
   "cell_type": "markdown",
   "metadata": {},
   "source": [
    "### The default information/technical metadata\n",
    "\n",
    "The standard specifies some information required for all images: \n",
    "\n",
    "- `@context` - The context of the response, which should be `http://iiif.io/api/image/3/context.json`\n",
    "- `id` - The base URI of the resource - without information about the region, size, rotation, quality, or format.\n",
    "- `type` - The type of the resource, which should be `ImageService3`\n",
    "- `protocol` - The version of the IIIF Image API the server is using, which should be `http://iiif.io/api/image`\n",
    "- `profile` - The level (from 1-3) of data the server can provide.\n",
    "- `width` - The width of the full image in pixels.\n",
    "- `height` - The height of the full image in pixels.\n",
    "\n",
    "The response from Oxford includes two additional, optional fields:\n",
    "\n",
    "- `maxWidth` and `maxHeight` - The maximum width and height of the image in pixels.\n",
    "\n",
    "Using the Discovery example, with just the required fields and some example values could look like the below. "
   ]
  },
  {
   "cell_type": "code",
   "execution_count": null,
   "metadata": {},
   "outputs": [],
   "source": [
    "discovery_example = {\n",
    "    \"@context\": \"http://iiif.io/api/image/3/context.json\",\n",
    "    \"id\": \"https://discovery.nationalarchives.gov.uk/details/r/C9060661\", # <-- the base location of the image - without a trailing slash or other information\n",
    "    \"type\": \"ImageService3\", \n",
    "    \"protocol\": \"http://iiif.io/api/image\", \n",
    "    \"profile\": \"level 1\", \n",
    "    \"width\": 1000,\n",
    "    \"height\": 1000, \n",
    "}"
   ]
  },
  {
   "cell_type": "markdown",
   "metadata": {},
   "source": [
    "### Sizes\n",
    "\n",
    "Sizes are an optional field, included in the response from Oxford. This field lists the sizes the server can provide the image in, and is provided as a list of objects, each with a `width` and `height` field - specified in pixels. The information for the Oxford image indicates that it can be provided in 5 sizes, each 50% smaller than the previous. \n",
    "\n",
    "This snippet would indicate that the Discovery example was available only additionally available at 50% the original size."
   ]
  },
  {
   "cell_type": "code",
   "execution_count": null,
   "metadata": {},
   "outputs": [],
   "source": [
    "sizes = [\n",
    "    {\n",
    "        \"width\": 500,\n",
    "        \"height\": 500\n",
    "    }\n",
    "]"
   ]
  },
  {
   "cell_type": "markdown",
   "metadata": {},
   "source": [
    "### Tiles\n",
    "\n",
    "The zoom functionality of IIIF viewers is provided by the server providing the image in a series of tiles, which are then stitched together by the viewer. The `tiles` field in the response provides information about these tiles, including the size, number of levels, and width and height in pixels. We are going to ignore this field for the Discovery example. "
   ]
  },
  {
   "cell_type": "markdown",
   "metadata": {},
   "source": [
    "### Extra functionality\n",
    "\n",
    "There are three fields that can be added to indicate extra functionality options the server can provide. The data these fields contain provides information that specifies options that can be used in the request URI detailed above.\n",
    "\n",
    "- `extraQualities` - A list of additional qualities (colour formats) the server can provide the image in. In the example from Oxford, 'color' 'grey' and 'bitonal' are provided.\n",
    "- `extraFormats` - A list of additional formats the server can provide the image in, such as `tif`. The Oxford example provides just 'webp'. \n",
    "- `extraFeatures` - A list of additional features the server can provide, such as `rotationArbitrary` or `mirroring`. The list of features can be found on [the IIIF website here](https://iiif.io/api/image/3.0/#57-extra-functionality), where details of the options provided by Oxford can be decoded.\n",
    "\n",
    "For the Discovery-based example, we will include a simple option for each of these fields."
   ]
  },
  {
   "cell_type": "code",
   "execution_count": null,
   "metadata": {},
   "outputs": [],
   "source": [
    "extra_qualities = [\n",
    "    \"bitonal\" \n",
    "]\n",
    "extra_formats = [\n",
    "    \"webp\" \n",
    "]\n",
    "extra_features = [\n",
    "    \"rotationArbitrary\" # indicating the server can rotate the image to any angle\n",
    "]"
   ]
  },
  {
   "cell_type": "markdown",
   "metadata": {},
   "source": [
    "### Other information\n",
    "\n",
    "There are other fields that can also be included in the response that are not in the Oxford example; \n",
    "\n",
    "- `rights` - using a URL from, for example, Creative Commons, to specify the rights of the image.\n",
    "- Options to link to other resources:\n",
    "    -  `partOf` (something refering to this image, such as a [canvas](./presentation_new.ipynb)), \n",
    "    - `seeAlso` (a link to a resource with more information about the image),\n",
    "    - `service` (an external service related to the resource, providing functionality, such as authentication). \n",
    "\n",
    "In the [presentation notebook](./presentation_new.ipynb), we used the same example from Discovery to show how to build a IIIF manifest, so here we need to provide a `partOf` link to the appropriate canvas."
   ]
  },
  {
   "cell_type": "code",
   "execution_count": null,
   "metadata": {},
   "outputs": [],
   "source": [
    "part_of = [\n",
    "    {\n",
    "        \"id\": \"https://discovery.nationalarchives.gov.uk/details/r/C9060661/manifest.json\", #<- part of can point to a canvas or a manifest, here we are pointing to a manifest,\n",
    "                                                                                            # as the resource is both pages\n",
    "        \"type\": \"Manifest\"\n",
    "    }\n",
    "]"
   ]
  },
  {
   "cell_type": "markdown",
   "metadata": {},
   "source": [
    "### The full response\n",
    "\n",
    "The fully constructed response for the Discovery, then, would look like the below."
   ]
  },
  {
   "cell_type": "code",
   "execution_count": null,
   "metadata": {},
   "outputs": [],
   "source": [
    "discovery_example[\"sizes\"] = sizes\n",
    "discovery_example[\"extraQualities\"] = extra_qualities\n",
    "discovery_example[\"extraFormats\"] = extra_formats\n",
    "discovery_example[\"extraFeatures\"] = extra_features\n",
    "discovery_example[\"partOf\"] = part_of\n",
    "\n",
    "print(json.dumps(discovery_example, indent=2))"
   ]
  }
 ],
 "metadata": {
  "kernelspec": {
   "display_name": "Python 3",
   "language": "python",
   "name": "python3"
  },
  "language_info": {
   "codemirror_mode": {
    "name": "ipython",
    "version": 3
   },
   "file_extension": ".py",
   "mimetype": "text/x-python",
   "name": "python",
   "nbconvert_exporter": "python",
   "pygments_lexer": "ipython3",
   "version": "3.10.12"
  }
 },
 "nbformat": 4,
 "nbformat_minor": 2
}
