{
 "cells": [
  {
   "cell_type": "markdown",
   "metadata": {},
   "source": [
    "# Visualising data\n",
    "\n",
    "With this large dataset we have gathered from the API, an approriate next step is to start to visualise the data. Properly considered research questions and approirate visualisations will help us to find the data we are looking for more efficiently, and will help us to understand the data we have gathered.\n",
    "\n",
    "Note that the visualistions we are going to go through here are just starter examples of what can be achived, and to show how to use the tools demonstrated here. \n",
    "\n",
    "The first visualisations we are going to do are time-based, showing a simple and a more complex option. For these graphs, we are going to further restrict the data from the first 10 results gathered in the previous notebook - this will make the graphs easier to read and the code easier to follow. Later on in this noteobook, we will show how to make adjustments so the whole dataset is visible. \n",
    "\n",
    "To start, as always, we are going to install and import the required libraries. In this case, we are primaraly using MatPlotLib and Pandas. MatPlotLib is a powerful library for data visulaisation, and Pandas provides tools for working with dataframes (similar to Excel spreadsheets).\n",
    "\n",
    "As before, we are also going to import pre-collected data. These data are the same as were collected in the last cell of the previous notebook, they've just been provided in the [additional data](aditional_data.py) file to allow users to start with this notebook, and reduce the risk of the API rejecting requests."
   ]
  },
  {
   "cell_type": "code",
   "execution_count": null,
   "metadata": {},
   "outputs": [],
   "source": [
    "%pip install pandas\n",
    "%pip install matplotlib\n",
    "%pip install json\n",
    "import pandas as pd\n",
    "import matplotlib.pyplot as plt         # note that these two libraries are commonly imported as pd and plt, you are likely to see this in other people's code\n",
    "import json\n",
    "\n",
    "import aditional_data\n",
    "\n",
    "ship_data_predownloaded = aditional_data.ship_record_data"
   ]
  },
  {
   "cell_type": "markdown",
   "metadata": {},
   "source": [
    "The first thing we need to do is adjust the data to be more useful. In the real world, this will be entirely dependant on how your brain handles data, the data format required by the tools you are using, and the questions you are trying to answer. \n",
    "\n",
    "For this example, we are going to map our dictionary to a single dataframe (single spreadsheet), as this will be easier to work with, and in this case won't loose any data. "
   ]
  },
  {
   "cell_type": "code",
   "execution_count": null,
   "metadata": {},
   "outputs": [],
   "source": [
    "ship_data_flat = []\n",
    "\n",
    "for ship in ship_data_predownloaded:\n",
    "    #print(ship)\n",
    "    for record in ship[\"records\"]:\n",
    "        ship_data_flat.append(\n",
    "            {\n",
    "                \"ship_name\": ship[\"ship_name\"],\n",
    "                \"id\": record[\"id\"],\n",
    "                \"startDate\": record[\"startDate\"],\n",
    "                \"endDate\": record[\"endDate\"],\n",
    "                \"digitised\": record[\"digitised\"],\n",
    "                \"description\": record[\"description\"],\n",
    "            }\n",
    "        )\n",
    "\n",
    "ship_data_frame = pd.DataFrame(ship_data_flat)\n",
    "\n",
    "print(ship_data_frame)"
   ]
  },
  {
   "cell_type": "markdown",
   "metadata": {},
   "source": [
    "To start, we are going to create a horizontally stacked bar chart, with time on the x-axis. This will let us plot the time period covered by each record. While this demonstration will only cover a few records, expanded, this style of visualisation could be used to give an easy overview of data, allowing the user to see if they've found the era they are looking for.\n",
    "\n",
    "There are three phases of work we need to do: investigating the documentation, preparing the data, then plotting it. \n",
    "\n",
    "The first documentation for MatPlotLib [is avaiable here](https://matplotlib.org/stable/gallery/index), with further specific reference information about the diiferent tools [available via the reference link](https://matplotlib.org/stable/api/index.html). Note that for most examples, a link is provided from the general documentation to the specific reference section.\n",
    "\n",
    "From the documentation for the [horizontal bar chart](https://matplotlib.org/stable/gallery/lines_bars_and_markers/barh.html) (and the [specific reference information](https://matplotlib.org/stable/api/_as_gen/matplotlib.axes.Axes.barh.html)) we can see what data we need to provide. In this case: \n",
    "- The y coordinates \n",
    "- The width of the bars\n",
    "- The height of the bars - remember that this is the width of the bars in a horizontal bar chart\n",
    "\n",
    "We already have enough information for most of these categories, but we ne"
   ]
  },
  {
   "cell_type": "code",
   "execution_count": null,
   "metadata": {},
   "outputs": [],
   "source": [
    "#ship_data_frame_first_10 = ship_data_frame.head(10)\n",
    "ship_data_frame_first_10 = ship_data_frame\n",
    "\n",
    "ship_data_frame_first_10[\"startDate\"] = pd.to_datetime(ship_data_frame_first_10[\"startDate\"], dayfirst=True)\n",
    "ship_data_frame_first_10[\"endDate\"] = pd.to_datetime(ship_data_frame_first_10[\"endDate\"], dayfirst=True)\n",
    "ship_data_frame_first_10[\"duration\"] = ship_data_frame_first_10[\"endDate\"] - ship_data_frame_first_10[\"startDate\"]\n",
    "#print(ship_data_frame_first_10[\"duration\"])\n",
    "\n",
    "fig, ax = plt.subplots()\n",
    "\n",
    "#print(ship_data_frame_first_10)\n",
    "\n",
    "ax.barh(ship_data_frame_first_10[\"id\"], ship_data_frame_first_10[\"duration\"], left=ship_data_frame_first_10[\"startDate\"])\n",
    "\n",
    "## add labels\n",
    "\n",
    "ax.set_xlabel(\"Date\")\n",
    "\n",
    "ax.set_ylabel(\"Record ID\")\n",
    "\n",
    "plt.show()"
   ]
  },
  {
   "cell_type": "markdown",
   "metadata": {},
   "source": [
    "This visualistion demonstrates how powerful visualisations can be - we can very quickly see the temporal spread of the data, and that some records cover a much wider time period than others. You can also start to see clusters of data around certain time periods, which could be records for specific ships (as they will have been active for a limited time period). \n",
    "\n",
    "However, there are improvements we can make. \n",
    "The first we are going to do is make the assumption that the user is going to be using this graph for to find records in a specific time period. For this, the user is still going to need as many records as possible, but also the labels on the y axis. To do this we are going to increase the size of the image. "
   ]
  },
  {
   "cell_type": "code",
   "execution_count": null,
   "metadata": {},
   "outputs": [],
   "source": [
    "## re-draw the barh but at a much larger size\n",
    "\n",
    "fig, ax = plt.subplots(figsize=(22, 22))\n",
    "\n",
    "ax.barh(ship_data_frame_first_10[\"id\"], ship_data_frame_first_10[\"duration\"], left=ship_data_frame_first_10[\"startDate\"])\n",
    "\n",
    "## add labels\n",
    "\n",
    "ax.set_xlabel(\"Date\")\n",
    "\n",
    "ax.set_ylabel(\"Record ID\")\n",
    "\n",
    "plt.show()"
   ]
  },
  {
   "cell_type": "markdown",
   "metadata": {},
   "source": [
    "We can futher improve the visualisation by changing the colours of the bars. To make it easier to find correct ships, we are going to colour the bar based on ship name. So the viewer knows what ship they are looking for, we are going to add a legend. \n",
    "\n",
    "Finally, we are going to add a title to the graph."
   ]
  },
  {
   "cell_type": "code",
   "execution_count": null,
   "metadata": {},
   "outputs": [],
   "source": [
    "## Find all the unique ship names\n",
    "\n",
    "unique_ship_names = ship_data_frame[\"ship_name\"].unique()\n",
    "\n",
    "## assign a colour to each ship name\n",
    "\n",
    "ship_name_colour_map = {}\n",
    "\n",
    "for index, ship_name in enumerate(unique_ship_names):\n",
    "    ship_name_colour_map[ship_name] = f\"C{index}\"\n",
    "\n",
    "##  add a new column to the dataframe that contains the colour for each ship\n",
    "\n",
    "ship_data_frame[\"colour\"] = ship_data_frame[\"ship_name\"].map(ship_name_colour_map)\n",
    "\n",
    "## re-draw the barh at the larger size, but this time colour each bar by ship name\n",
    "\n",
    "fig, ax = plt.subplots(figsize=(22, 22))\n",
    "\n",
    "ax.barh(ship_data_frame_first_10[\"id\"], ship_data_frame_first_10[\"duration\"], left=ship_data_frame_first_10[\"startDate\"], color=ship_data_frame_first_10[\"colour\"])\n",
    "\n",
    "## add labels\n",
    "\n",
    "ax.set_xlabel(\"Date\")\n",
    "\n",
    "ax.set_ylabel(\"Record ID\")\n",
    "\n",
    "## add a title\n",
    "\n",
    "ax.set_title(\"Record duration by ship\")\n",
    "\n",
    "## add a legend showing the colour for each ship and the ship name\n",
    "\n",
    "for ship_name, colour in ship_name_colour_map.items():\n",
    "    ax.plot([], [], color=colour, label=ship_name)\n",
    "\n",
    "ax.legend()\n",
    "\n",
    "plt.show()\n"
   ]
  },
  {
   "cell_type": "markdown",
   "metadata": {},
   "source": [
    "If we want to add more data to the graph, there are options we can follow. For example, we could add a marker to show if the record had been digitised. "
   ]
  },
  {
   "cell_type": "code",
   "execution_count": null,
   "metadata": {},
   "outputs": [],
   "source": [
    "## Add an x to the graph on top of the bar if the record is digitised, else add a plus\n",
    "\n",
    "fig, ax = plt.subplots(figsize=(22, 22))\n",
    "\n",
    "ax.barh(ship_data_frame_first_10[\"id\"], ship_data_frame_first_10[\"duration\"], left=ship_data_frame_first_10[\"startDate\"], color=ship_data_frame_first_10[\"colour\"])\n",
    "\n",
    "## add labels\n",
    "\n",
    "ax.set_xlabel(\"Date\")\n",
    "\n",
    "ax.set_ylabel(\"Record ID\")\n",
    "\n",
    "## add a title\n",
    "\n",
    "ax.set_title(\"Record duration by ship\")\n",
    "\n",
    "## add a legend showing the colour for each ship and the ship name\n",
    "\n",
    "for ship_name, colour in ship_name_colour_map.items():\n",
    "    ax.plot([], [], color=colour, label=ship_name)\n",
    "\n",
    "ax.legend()\n",
    "\n",
    "## add an x to the graph on top of the bar if the record is digitised, else add a plus\n",
    "\n",
    "for index, row in ship_data_frame_first_10.iterrows():\n",
    "    if row[\"digitised\"]:\n",
    "        marker = \"x\"\n",
    "    else:\n",
    "        marker = \"+\"\n",
    "    ax.text(row[\"startDate\"], row[\"id\"], marker, color=row[\"colour\"], ha=\"center\", va=\"center\")\n",
    "\n",
    "plt.show()"
   ]
  },
  {
   "cell_type": "markdown",
   "metadata": {},
   "source": [
    "This final graph shows how graphs of data can be built up to clearly show a rich dataset. In this example, we can now can easily see: \n",
    "- which records are digitised\n",
    "- Which records relate to whihc ships\n",
    "- Which records cover which time periods\n",
    "- With the diagramatic approach, we can see where ship names were re-used, as records for ships with the same name cover vastly different time periods. For example, the ship name \"Bedford\" shows at least 2 clear clusters of records - one at approx 1900, and one covering approx 1750-1850. A similar effect can be seen for Avon and Acasta. "
   ]
  }
 ],
 "metadata": {
  "kernelspec": {
   "display_name": "Python 3",
   "language": "python",
   "name": "python3"
  },
  "language_info": {
   "codemirror_mode": {
    "name": "ipython",
    "version": 3
   },
   "file_extension": ".py",
   "mimetype": "text/x-python",
   "name": "python",
   "nbconvert_exporter": "python",
   "pygments_lexer": "ipython3",
   "version": "3.10.12"
  }
 },
 "nbformat": 4,
 "nbformat_minor": 2
}
