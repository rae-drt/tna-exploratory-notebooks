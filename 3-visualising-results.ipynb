{
 "cells": [
  {
   "cell_type": "markdown",
   "metadata": {},
   "source": [
    "# Visualising data\n",
    "\n",
    "With this large dataset we have gathered from the API, an approriate next step is to start to visualise the data. Properly considered research questions and approirate visualisations will help us to find the data we are looking for more efficiently, and will help us to understand the data we have gathered.\n",
    "\n",
    "Note that the visualistions we are going to go through here are just starter examples of what can be achived, and to show how to use the tools demonstrated here. \n",
    "\n",
    "The first visualisations we are going to do are time-based, showing a simple and a more complex option. For these graphs, we are going to further restrict the data from the first 10 results gathered in the previous notebook - this will make the graphs easier to read and the code easier to follow. Later on in this noteobook, we will show how to make adjustments so the whole dataset is visible. \n",
    "\n",
    "To start, as always, we are going to install and import the required libraries. In this case, we are primaraly using MatPlotLib and Pandas. MatPlotLib is a powerful library for data visulaisation, and Pandas provides tools for working with dataframes (similar to Excel spreadsheets).\n",
    "\n",
    "As before, we are also going to import pre-collected data. These data are the same as were collected in the last cell of the previous notebook, they've just been provided in the [additional data](aditional_data.py) file to allow users to start with this notebook, and reduce the risk of the API rejecting requests."
   ]
  },
  {
   "cell_type": "code",
   "execution_count": 3,
   "metadata": {},
   "outputs": [
    {
     "name": "stdout",
     "output_type": "stream",
     "text": [
      "Defaulting to user installation because normal site-packages is not writeable\n",
      "Requirement already satisfied: pandas in /home/abewsey/.local/lib/python3.10/site-packages (2.1.1)\n",
      "Requirement already satisfied: numpy>=1.22.4 in /home/abewsey/.local/lib/python3.10/site-packages (from pandas) (1.26.0)\n",
      "Requirement already satisfied: python-dateutil>=2.8.2 in /home/abewsey/.local/lib/python3.10/site-packages (from pandas) (2.8.2)\n",
      "Requirement already satisfied: pytz>=2020.1 in /home/abewsey/.local/lib/python3.10/site-packages (from pandas) (2023.3)\n",
      "Requirement already satisfied: tzdata>=2022.1 in /home/abewsey/.local/lib/python3.10/site-packages (from pandas) (2023.3)\n",
      "Requirement already satisfied: six>=1.5 in /usr/lib/python3/dist-packages (from python-dateutil>=2.8.2->pandas) (1.16.0)\n",
      "\n",
      "\u001b[1m[\u001b[0m\u001b[34;49mnotice\u001b[0m\u001b[1;39;49m]\u001b[0m\u001b[39;49m A new release of pip is available: \u001b[0m\u001b[31;49m23.2.1\u001b[0m\u001b[39;49m -> \u001b[0m\u001b[32;49m23.3.1\u001b[0m\n",
      "\u001b[1m[\u001b[0m\u001b[34;49mnotice\u001b[0m\u001b[1;39;49m]\u001b[0m\u001b[39;49m To update, run: \u001b[0m\u001b[32;49mpip install --upgrade pip\u001b[0m\n",
      "Note: you may need to restart the kernel to use updated packages.\n",
      "Defaulting to user installation because normal site-packages is not writeable\n",
      "Requirement already satisfied: matplotlib in /home/abewsey/.local/lib/python3.10/site-packages (3.8.0)\n",
      "Requirement already satisfied: contourpy>=1.0.1 in /home/abewsey/.local/lib/python3.10/site-packages (from matplotlib) (1.1.1)\n",
      "Requirement already satisfied: cycler>=0.10 in /home/abewsey/.local/lib/python3.10/site-packages (from matplotlib) (0.12.0)\n",
      "Requirement already satisfied: fonttools>=4.22.0 in /home/abewsey/.local/lib/python3.10/site-packages (from matplotlib) (4.42.1)\n",
      "Requirement already satisfied: kiwisolver>=1.0.1 in /home/abewsey/.local/lib/python3.10/site-packages (from matplotlib) (1.4.5)\n",
      "Requirement already satisfied: numpy<2,>=1.21 in /home/abewsey/.local/lib/python3.10/site-packages (from matplotlib) (1.26.0)\n",
      "Requirement already satisfied: packaging>=20.0 in /home/abewsey/.local/lib/python3.10/site-packages (from matplotlib) (23.1)\n",
      "Requirement already satisfied: pillow>=6.2.0 in /home/abewsey/.local/lib/python3.10/site-packages (from matplotlib) (9.5.0)\n",
      "Requirement already satisfied: pyparsing>=2.3.1 in /usr/lib/python3/dist-packages (from matplotlib) (2.4.7)\n",
      "Requirement already satisfied: python-dateutil>=2.7 in /home/abewsey/.local/lib/python3.10/site-packages (from matplotlib) (2.8.2)\n",
      "Requirement already satisfied: six>=1.5 in /usr/lib/python3/dist-packages (from python-dateutil>=2.7->matplotlib) (1.16.0)\n",
      "\n",
      "\u001b[1m[\u001b[0m\u001b[34;49mnotice\u001b[0m\u001b[1;39;49m]\u001b[0m\u001b[39;49m A new release of pip is available: \u001b[0m\u001b[31;49m23.2.1\u001b[0m\u001b[39;49m -> \u001b[0m\u001b[32;49m23.3.1\u001b[0m\n",
      "\u001b[1m[\u001b[0m\u001b[34;49mnotice\u001b[0m\u001b[1;39;49m]\u001b[0m\u001b[39;49m To update, run: \u001b[0m\u001b[32;49mpip install --upgrade pip\u001b[0m\n",
      "Note: you may need to restart the kernel to use updated packages.\n",
      "Defaulting to user installation because normal site-packages is not writeable\n",
      "\u001b[31mERROR: Could not find a version that satisfies the requirement json (from versions: none)\u001b[0m\u001b[31m\n",
      "\u001b[0m\u001b[31mERROR: No matching distribution found for json\u001b[0m\u001b[31m\n",
      "\u001b[0m\n",
      "\u001b[1m[\u001b[0m\u001b[34;49mnotice\u001b[0m\u001b[1;39;49m]\u001b[0m\u001b[39;49m A new release of pip is available: \u001b[0m\u001b[31;49m23.2.1\u001b[0m\u001b[39;49m -> \u001b[0m\u001b[32;49m23.3.1\u001b[0m\n",
      "\u001b[1m[\u001b[0m\u001b[34;49mnotice\u001b[0m\u001b[1;39;49m]\u001b[0m\u001b[39;49m To update, run: \u001b[0m\u001b[32;49mpip install --upgrade pip\u001b[0m\n",
      "Note: you may need to restart the kernel to use updated packages.\n"
     ]
    }
   ],
   "source": [
    "%pip install pandas\n",
    "%pip install matplotlib\n",
    "%pip install json\n",
    "import pandas as pd\n",
    "import matplotlib.pyplot as plt         # note that these two libraries are commonly imported as pd and plt, you are likely to see this in other people's code\n",
    "import json\n",
    "\n",
    "import aditional_data\n",
    "\n",
    "ship_data_predownloaded = aditional_data.ship_record_data"
   ]
  },
  {
   "cell_type": "markdown",
   "metadata": {},
   "source": [
    "The first thing we need to do is adjust the data to be more useful. In the real world, this will be entirely dependant on how your brain handles data, the data format required by the tools you are using, and the questions you are trying to answer. \n",
    "\n",
    "For this example, we are going to map our dictionary to a single dataframe (single spreadsheet), as this will be easier to work with, and in this case won't loose any data. "
   ]
  },
  {
   "cell_type": "code",
   "execution_count": 4,
   "metadata": {},
   "outputs": [
    {
     "name": "stdout",
     "output_type": "stream",
     "text": [
      "    ship_name        id   startDate     endDate  digitised  \\\n",
      "0      Acasta  C1496966  01/07/1920  31/08/1920      False   \n",
      "1      Acasta  C1496941  01/12/1913  31/01/1914      False   \n",
      "2      Acasta  C1496945  10/04/1915  31/05/1915      False   \n",
      "3      Acasta  C1480965  01/04/1913  31/05/1913      False   \n",
      "4      Acasta  C1480963  30/11/1912  30/01/1913      False   \n",
      "..        ...       ...         ...         ...        ...   \n",
      "124   Bedford  C2530407  30/08/1778  29/08/1780      False   \n",
      "125   Bedford  C2530404  07/05/1723  05/03/1728      False   \n",
      "126   Bedford  C2530416  04/11/1807  05/07/1815      False   \n",
      "127   Bedford  C2530406  01/01/1757  31/12/1762      False   \n",
      "128   Bedford  C2530402  01/01/1692  31/12/1797      False   \n",
      "\n",
      "                                           description  \n",
      "0           <scopecontent><p>ACASTA</p></scopecontent>  \n",
      "1           <scopecontent><p>ACASTA</p></scopecontent>  \n",
      "2           <scopecontent><p>ACASTA</p></scopecontent>  \n",
      "3           <scopecontent><p>ACASTA</p></scopecontent>  \n",
      "4           <scopecontent><p>ACASTA</p></scopecontent>  \n",
      "..                                                 ...  \n",
      "124  <scopecontent><p>Master's log(s): Bedford </p>...  \n",
      "125  <scopecontent><p>Master's log(s): Bedford </p>...  \n",
      "126  <scopecontent><p>Master's log(s): Bedford </p>...  \n",
      "127  <scopecontent><p>Masters' logs, including: </p...  \n",
      "128  <scopecontent><p>Masters' logs, including: </p...  \n",
      "\n",
      "[129 rows x 6 columns]\n"
     ]
    }
   ],
   "source": [
    "ship_data_flat = []\n",
    "\n",
    "for ship in ship_data_predownloaded:\n",
    "    #print(ship)\n",
    "    for record in ship[\"records\"]:\n",
    "        ship_data_flat.append(\n",
    "            {\n",
    "                \"ship_name\": ship[\"ship_name\"],\n",
    "                \"id\": record[\"id\"],\n",
    "                \"startDate\": record[\"startDate\"],\n",
    "                \"endDate\": record[\"endDate\"],\n",
    "                \"digitised\": record[\"digitised\"],\n",
    "                \"description\": record[\"description\"],\n",
    "            }\n",
    "        )\n",
    "\n",
    "ship_data_frame = pd.DataFrame(ship_data_flat)\n",
    "\n",
    "print(ship_data_frame)"
   ]
  },
  {
   "cell_type": "markdown",
   "metadata": {},
   "source": [
    "To start, we are going to create a horizontally stacked bar chart, with time on the x-axis. This will let us plot the time period covered by each record. While this demonstration will only cover a few records, expanded, this style of visualisation could be used to give an easy overview of data, allowing the user to see if they've found the era they are looking for.\n",
    "\n",
    "There are three phases of work we need to do: investigating the documentation, preparing the data, then plotting it. \n",
    "\n",
    "The first documentation for MatPlotLib [is avaiable here](https://matplotlib.org/stable/gallery/index), with further specific reference information about the diiferent tools [available via the reference link](https://matplotlib.org/stable/api/index.html). Note that for most examples, a link is provided from the general documentation to the specific reference section.\n",
    "\n",
    "From the documentation for the [horizontal bar chart](https://matplotlib.org/stable/gallery/lines_bars_and_markers/barh.html) (and the [specific reference information](https://matplotlib.org/stable/api/_as_gen/matplotlib.axes.Axes.barh.html)) we can see what data we need to provide. In this case: \n",
    "- The y coordinates \n",
    "- The width of the bars\n",
    "- The height of the bars - remember that this is the width of the bars in a horizontal bar chart\n",
    "\n",
    "We already have enough information for most of these categories, but we ne"
   ]
  },
  {
   "cell_type": "code",
   "execution_count": 11,
   "metadata": {},
   "outputs": [
    {
     "name": "stdout",
     "output_type": "stream",
     "text": [
      "0   61 days\n",
      "1   61 days\n",
      "2   51 days\n",
      "3   60 days\n",
      "4   61 days\n",
      "5   58 days\n",
      "6   30 days\n",
      "7   61 days\n",
      "8   30 days\n",
      "9   30 days\n",
      "Name: duration, dtype: timedelta64[ns]\n",
      "  ship_name        id  startDate    endDate  digitised  \\\n",
      "0    Acasta  C1496966 1920-07-01 1920-08-31      False   \n",
      "1    Acasta  C1496941 1913-12-01 1914-01-31      False   \n",
      "2    Acasta  C1496945 1915-04-10 1915-05-31      False   \n",
      "3    Acasta  C1480965 1913-04-01 1913-05-31      False   \n",
      "4    Acasta  C1480963 1912-11-30 1913-01-30      False   \n",
      "5    Acasta  C1496949 1917-01-01 1917-02-28      False   \n",
      "6    Acasta  C1534145 1931-05-01 1931-05-31      False   \n",
      "7    Acasta  C1534133 1930-02-11 1930-04-13      False   \n",
      "8    Acasta  C1534161 1932-12-01 1932-12-31      False   \n",
      "9    Acasta  C1534176 1934-03-01 1934-03-31      False   \n",
      "\n",
      "                                   description duration  \n",
      "0   <scopecontent><p>ACASTA</p></scopecontent>  61 days  \n",
      "1   <scopecontent><p>ACASTA</p></scopecontent>  61 days  \n",
      "2   <scopecontent><p>ACASTA</p></scopecontent>  51 days  \n",
      "3   <scopecontent><p>ACASTA</p></scopecontent>  60 days  \n",
      "4   <scopecontent><p>ACASTA</p></scopecontent>  61 days  \n",
      "5   <scopecontent><p>ACASTA</p></scopecontent>  58 days  \n",
      "6  <scopecontent><p>ACASTA.</p></scopecontent>  30 days  \n",
      "7  <scopecontent><p>ACASTA.</p></scopecontent>  61 days  \n",
      "8  <scopecontent><p>ACASTA.</p></scopecontent>  30 days  \n",
      "9  <scopecontent><p>ACASTA.</p></scopecontent>  30 days  \n"
     ]
    },
    {
     "name": "stderr",
     "output_type": "stream",
     "text": [
      "/tmp/ipykernel_25558/126064649.py:3: SettingWithCopyWarning: \n",
      "A value is trying to be set on a copy of a slice from a DataFrame.\n",
      "Try using .loc[row_indexer,col_indexer] = value instead\n",
      "\n",
      "See the caveats in the documentation: https://pandas.pydata.org/pandas-docs/stable/user_guide/indexing.html#returning-a-view-versus-a-copy\n",
      "  ship_data_frame_first_10[\"startDate\"] = pd.to_datetime(ship_data_frame_first_10[\"startDate\"], dayfirst=True)\n",
      "/tmp/ipykernel_25558/126064649.py:4: SettingWithCopyWarning: \n",
      "A value is trying to be set on a copy of a slice from a DataFrame.\n",
      "Try using .loc[row_indexer,col_indexer] = value instead\n",
      "\n",
      "See the caveats in the documentation: https://pandas.pydata.org/pandas-docs/stable/user_guide/indexing.html#returning-a-view-versus-a-copy\n",
      "  ship_data_frame_first_10[\"endDate\"] = pd.to_datetime(ship_data_frame_first_10[\"endDate\"], dayfirst=True)\n",
      "/tmp/ipykernel_25558/126064649.py:5: SettingWithCopyWarning: \n",
      "A value is trying to be set on a copy of a slice from a DataFrame.\n",
      "Try using .loc[row_indexer,col_indexer] = value instead\n",
      "\n",
      "See the caveats in the documentation: https://pandas.pydata.org/pandas-docs/stable/user_guide/indexing.html#returning-a-view-versus-a-copy\n",
      "  ship_data_frame_first_10[\"duration\"] = ship_data_frame_first_10[\"endDate\"] - ship_data_frame_first_10[\"startDate\"]\n"
     ]
    },
    {
     "data": {
      "image/png": "[encoded data removed]",
      "text/plain": [
       "<Figure size 640x480 with 1 Axes>"
      ]
     },
     "metadata": {},
     "output_type": "display_data"
    }
   ],
   "source": [
    "ship_data_frame_first_10 = ship_data_frame.head(10)\n",
    "\n",
    "ship_data_frame_first_10[\"startDate\"] = pd.to_datetime(ship_data_frame_first_10[\"startDate\"], dayfirst=True)\n",
    "ship_data_frame_first_10[\"endDate\"] = pd.to_datetime(ship_data_frame_first_10[\"endDate\"], dayfirst=True)\n",
    "ship_data_frame_first_10[\"duration\"] = ship_data_frame_first_10[\"endDate\"] - ship_data_frame_first_10[\"startDate\"]\n",
    "print(ship_data_frame_first_10[\"duration\"])\n",
    "\n",
    "fig, ax = plt.subplots()\n",
    "\n",
    "print(ship_data_frame_first_10)\n",
    "\n",
    "ax.barh(ship_data_frame_first_10[\"id\"], ship_data_frame_first_10[\"duration\"], left=ship_data_frame_first_10[\"startDate\"])\n",
    "\n",
    "## add labels\n",
    "\n",
    "ax.set_xlabel(\"Date\")\n",
    "\n",
    "ax.set_ylabel(\"Record ID\")\n",
    "\n",
    "plt.show()"
   ]
  }
 ],
 "metadata": {
  "kernelspec": {
   "display_name": "Python 3",
   "language": "python",
   "name": "python3"
  },
  "language_info": {
   "codemirror_mode": {
    "name": "ipython",
    "version": 3
   },
   "file_extension": ".py",
   "mimetype": "text/x-python",
   "name": "python",
   "nbconvert_exporter": "python",
   "pygments_lexer": "ipython3",
   "version": "3.10.12"
  }
 },
 "nbformat": 4,
 "nbformat_minor": 2
}
